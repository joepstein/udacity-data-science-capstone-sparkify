{
 "cells": [
  {
   "cell_type": "markdown",
   "metadata": {},
   "source": [
    "# Sparkify Project Workspace\n",
    "Welcome to the Sparkify project, here you will see an analsysis of the small sparkify dataset, and models to predict user churn."
   ]
  },
  {
   "cell_type": "code",
   "execution_count": 1,
   "metadata": {},
   "outputs": [],
   "source": [
    "# EDA Plan\n",
    "## 1. Defined churn\n",
    "## 2. Cleaned for empty user strings, as well as user agents\n",
    "## 3. Split user agent string into platform and browser (bar plot for platform and browser)\n",
    "## 4. Split location column into city and state (bar plot for state)\n",
    "## 5. Converted timestamp into unique day column\n",
    "\n",
    "# Feature Engineering\n",
    "## 1. Average daily sessions (boxplot)\n",
    "## 2. Average daily thumbs up (boxplot)\n",
    "## 3. Average daily thumbs down (boxplot)\n",
    "## 4. Average daily advertisements\n",
    "## 5. Average daily next song actions\n",
    "## 6. Average daily error actions\n",
    "## 7. Total unique artists listened to\n",
    "## 8. Days passed as a user of the service\n",
    "\n",
    "# Modeling\n",
    "## 1. Preprocess data\n",
    "## 2. Split into train/test\n",
    "## 3. Check F1 for a few models\n",
    "## 4. Use CV\n",
    "## 5. Check accuracy on both train/test set"
   ]
  },
  {
   "cell_type": "code",
   "execution_count": 2,
   "metadata": {},
   "outputs": [],
   "source": [
    "# import libraries\n",
    "from pyspark import SparkContext\n",
    "from pyspark.sql import SparkSession\n",
    "from pyspark.sql.window import Window\n",
    "from pyspark.sql.functions import udf, max, min, lit, when, col, count, countDistinct\n",
    "from pyspark.sql.types import *\n",
    "\n",
    "\n",
    "import math\n",
    "import re\n",
    "import numpy as np\n",
    "import matplotlib.pyplot as plt\n",
    "import seaborn as sb\n",
    "\n",
    "from pyspark.ml import Pipeline\n",
    "from pyspark.ml.classification import LogisticRegression, GBTClassifier, RandomForestClassifier\n",
    "from pyspark.ml.evaluation import BinaryClassificationEvaluator, MulticlassClassificationEvaluator\n",
    "from pyspark.ml.feature import StandardScaler, StringIndexer, VectorAssembler\n",
    "from pyspark.ml.tuning import CrossValidator, ParamGridBuilder"
   ]
  },
  {
   "cell_type": "code",
   "execution_count": 3,
   "metadata": {},
   "outputs": [],
   "source": [
    "# create a Spark session\n",
    "spark = SparkSession.builder.appName(\"EDA  Sparkify\").getOrCreate()"
   ]
  },
  {
   "cell_type": "code",
   "execution_count": 4,
   "metadata": {},
   "outputs": [],
   "source": [
    "path = \"./mini_sparkify_event_data.json\"\n",
    "user_log = spark.read.json(path)"
   ]
  },
  {
   "cell_type": "code",
   "execution_count": 5,
   "metadata": {},
   "outputs": [
    {
     "name": "stdout",
     "output_type": "stream",
     "text": [
      "root\n",
      " |-- artist: string (nullable = true)\n",
      " |-- auth: string (nullable = true)\n",
      " |-- firstName: string (nullable = true)\n",
      " |-- gender: string (nullable = true)\n",
      " |-- itemInSession: long (nullable = true)\n",
      " |-- lastName: string (nullable = true)\n",
      " |-- length: double (nullable = true)\n",
      " |-- level: string (nullable = true)\n",
      " |-- location: string (nullable = true)\n",
      " |-- method: string (nullable = true)\n",
      " |-- page: string (nullable = true)\n",
      " |-- registration: long (nullable = true)\n",
      " |-- sessionId: long (nullable = true)\n",
      " |-- song: string (nullable = true)\n",
      " |-- status: long (nullable = true)\n",
      " |-- ts: long (nullable = true)\n",
      " |-- userAgent: string (nullable = true)\n",
      " |-- userId: string (nullable = true)\n",
      "\n"
     ]
    }
   ],
   "source": [
    "user_log.printSchema()"
   ]
  },
  {
   "cell_type": "code",
   "execution_count": 6,
   "metadata": {},
   "outputs": [
    {
     "name": "stdout",
     "output_type": "stream",
     "text": [
      "+----------------+---------+---------+------+-------------+--------+---------+-----+--------------------+------+--------+-------------+---------+--------------------+------+-------------+--------------------+------+\n",
      "|          artist|     auth|firstName|gender|itemInSession|lastName|   length|level|            location|method|    page| registration|sessionId|                song|status|           ts|           userAgent|userId|\n",
      "+----------------+---------+---------+------+-------------+--------+---------+-----+--------------------+------+--------+-------------+---------+--------------------+------+-------------+--------------------+------+\n",
      "|  Martha Tilston|Logged In|    Colin|     M|           50| Freeman|277.89016| paid|     Bakersfield, CA|   PUT|NextSong|1538173362000|       29|           Rockpools|   200|1538352117000|Mozilla/5.0 (Wind...|    30|\n",
      "|Five Iron Frenzy|Logged In|    Micah|     M|           79|    Long|236.09424| free|Boston-Cambridge-...|   PUT|NextSong|1538331630000|        8|              Canada|   200|1538352180000|\"Mozilla/5.0 (Win...|     9|\n",
      "|    Adam Lambert|Logged In|    Colin|     M|           51| Freeman| 282.8273| paid|     Bakersfield, CA|   PUT|NextSong|1538173362000|       29|   Time For Miracles|   200|1538352394000|Mozilla/5.0 (Wind...|    30|\n",
      "|          Enigma|Logged In|    Micah|     M|           80|    Long|262.71302| free|Boston-Cambridge-...|   PUT|NextSong|1538331630000|        8|Knocking On Forbi...|   200|1538352416000|\"Mozilla/5.0 (Win...|     9|\n",
      "|       Daft Punk|Logged In|    Colin|     M|           52| Freeman|223.60771| paid|     Bakersfield, CA|   PUT|NextSong|1538173362000|       29|Harder Better Fas...|   200|1538352676000|Mozilla/5.0 (Wind...|    30|\n",
      "+----------------+---------+---------+------+-------------+--------+---------+-----+--------------------+------+--------+-------------+---------+--------------------+------+-------------+--------------------+------+\n",
      "only showing top 5 rows\n",
      "\n"
     ]
    }
   ],
   "source": [
    "user_log.show(5)"
   ]
  },
  {
   "cell_type": "markdown",
   "metadata": {},
   "source": [
    "## *Clean Data for Missing Values*\n",
    "\n",
    "- After taking a look at the data, I've decided to transform some of the columns\n",
    "\n",
    "- First, I must ensure that each row has a user"
   ]
  },
  {
   "cell_type": "code",
   "execution_count": 9,
   "metadata": {},
   "outputs": [],
   "source": [
    "def check_and_clean_column(df, column):\n",
    "    \"\"\"\n",
    "    Show the users in sorted order so anomalous entries will show up at the top.\n",
    "    Count before and after removing columns that have a missing entry in this column.\n",
    "    \"\"\"\n",
    "    ### Check for anomalies in the dataset\n",
    "    df.select([column]).dropDuplicates().sort(column).show()\n",
    "    \n",
    "    ### Filter for empty string, and print results\n",
    "    print(df.count())\n",
    "    df = df.filter(df[column] != \"\") #on the mini data \n",
    "    print(df.count())\n",
    "    \n",
    "    return df"
   ]
  },
  {
   "cell_type": "code",
   "execution_count": 10,
   "metadata": {},
   "outputs": [
    {
     "name": "stdout",
     "output_type": "stream",
     "text": [
      "+------+\n",
      "|userId|\n",
      "+------+\n",
      "|      |\n",
      "|    10|\n",
      "|   100|\n",
      "|100001|\n",
      "|100002|\n",
      "|100003|\n",
      "|100004|\n",
      "|100005|\n",
      "|100006|\n",
      "|100007|\n",
      "|100008|\n",
      "|100009|\n",
      "|100010|\n",
      "|100011|\n",
      "|100012|\n",
      "|100013|\n",
      "|100014|\n",
      "|100015|\n",
      "|100016|\n",
      "|100017|\n",
      "+------+\n",
      "only showing top 20 rows\n",
      "\n",
      "286500\n",
      "278154\n"
     ]
    }
   ],
   "source": [
    "user_log = check_and_clean_column(user_log, 'userId')"
   ]
  },
  {
   "cell_type": "code",
   "execution_count": 11,
   "metadata": {},
   "outputs": [
    {
     "name": "stdout",
     "output_type": "stream",
     "text": [
      "+--------------------+\n",
      "|           userAgent|\n",
      "+--------------------+\n",
      "|\"Mozilla/5.0 (Mac...|\n",
      "|\"Mozilla/5.0 (Mac...|\n",
      "|\"Mozilla/5.0 (Mac...|\n",
      "|\"Mozilla/5.0 (Mac...|\n",
      "|\"Mozilla/5.0 (Mac...|\n",
      "|\"Mozilla/5.0 (Mac...|\n",
      "|\"Mozilla/5.0 (Mac...|\n",
      "|\"Mozilla/5.0 (Mac...|\n",
      "|\"Mozilla/5.0 (Mac...|\n",
      "|\"Mozilla/5.0 (Mac...|\n",
      "|\"Mozilla/5.0 (Mac...|\n",
      "|\"Mozilla/5.0 (Mac...|\n",
      "|\"Mozilla/5.0 (Mac...|\n",
      "|\"Mozilla/5.0 (Mac...|\n",
      "|\"Mozilla/5.0 (Mac...|\n",
      "|\"Mozilla/5.0 (Mac...|\n",
      "|\"Mozilla/5.0 (Mac...|\n",
      "|\"Mozilla/5.0 (Win...|\n",
      "|\"Mozilla/5.0 (Win...|\n",
      "|\"Mozilla/5.0 (Win...|\n",
      "+--------------------+\n",
      "only showing top 20 rows\n",
      "\n",
      "278154\n",
      "278154\n"
     ]
    }
   ],
   "source": [
    "user_log = check_and_clean_column(user_log, 'userAgent')"
   ]
  },
  {
   "cell_type": "code",
   "execution_count": 12,
   "metadata": {},
   "outputs": [
    {
     "name": "stdout",
     "output_type": "stream",
     "text": [
      "+--------------------+\n",
      "|            location|\n",
      "+--------------------+\n",
      "|          Albany, OR|\n",
      "|Albany-Schenectad...|\n",
      "|      Alexandria, LA|\n",
      "|Allentown-Bethleh...|\n",
      "|       Anchorage, AK|\n",
      "|Atlanta-Sandy Spr...|\n",
      "|Atlantic City-Ham...|\n",
      "|Austin-Round Rock...|\n",
      "|     Bakersfield, CA|\n",
      "|Baltimore-Columbi...|\n",
      "|        Billings, MT|\n",
      "|Birmingham-Hoover...|\n",
      "|Boston-Cambridge-...|\n",
      "|         Boulder, CO|\n",
      "|         Bozeman, MT|\n",
      "|Bridgeport-Stamfo...|\n",
      "|Buffalo-Cheektowa...|\n",
      "|Charlotte-Concord...|\n",
      "|Chicago-Napervill...|\n",
      "|Cincinnati, OH-KY-IN|\n",
      "+--------------------+\n",
      "only showing top 20 rows\n",
      "\n",
      "278154\n",
      "278154\n"
     ]
    }
   ],
   "source": [
    "user_log = check_and_clean_column(user_log, 'location')"
   ]
  },
  {
   "cell_type": "markdown",
   "metadata": {},
   "source": [
    "## *Observe and Define Churn*\n",
    "\n",
    "- Taking a look at the data, then defining churn\n",
    "\n",
    "- Checking the data afterwards, to be sure churn was implemented correctly"
   ]
  },
  {
   "cell_type": "code",
   "execution_count": 13,
   "metadata": {},
   "outputs": [],
   "source": [
    "def obs_and_def_churn(df):\n",
    "    \"\"\"\n",
    "    Take a look at the log files for rows where a user has churned.\n",
    "    Flag the churn event, and then create a column that states whether or not the user ever churned.\n",
    "    \"\"\"\n",
    "    ### Observation\n",
    "    df.filter(\"page = 'Cancellation Confirmation'\").show(5,False)\n",
    "    \n",
    "    ### Definition\n",
    "    \n",
    "    # add churn, 1 or 0\n",
    "    churned = udf(lambda x: int(x==\"Cancellation Confirmation\"), IntegerType())\n",
    "    df = df.withColumn(\"Churned\", churned(\"page\"))\n",
    "    \n",
    "    # add churn user flag\n",
    "    df = df.withColumn(\"userChurned\", max('Churned').over(Window.partitionBy('UserId')))\n",
    "    \n",
    "    return df"
   ]
  },
  {
   "cell_type": "code",
   "execution_count": 14,
   "metadata": {},
   "outputs": [
    {
     "name": "stdout",
     "output_type": "stream",
     "text": [
      "+------+---------+---------+------+-------------+--------+------+-----+-------------------------------------------+------+-------------------------+-------------+---------+----+------+-------------+-------------------------------------------------------------------------------------------------------------------------------------------+------+\n",
      "|artist|auth     |firstName|gender|itemInSession|lastName|length|level|location                                   |method|page                     |registration |sessionId|song|status|ts           |userAgent                                                                                                                                  |userId|\n",
      "+------+---------+---------+------+-------------+--------+------+-----+-------------------------------------------+------+-------------------------+-------------+---------+----+------+-------------+-------------------------------------------------------------------------------------------------------------------------------------------+------+\n",
      "|null  |Cancelled|Adriel   |M     |104          |Mendoza |null  |paid |Kansas City, MO-KS                         |GET   |Cancellation Confirmation|1535623466000|514      |null|200   |1538943990000|\"Mozilla/5.0 (Macintosh; Intel Mac OS X 10_9_4) AppleWebKit/537.77.4 (KHTML, like Gecko) Version/7.0.5 Safari/537.77.4\"                    |18    |\n",
      "|null  |Cancelled|Diego    |M     |56           |Mckee   |null  |paid |Phoenix-Mesa-Scottsdale, AZ                |GET   |Cancellation Confirmation|1537167593000|540      |null|200   |1539033046000|\"Mozilla/5.0 (iPhone; CPU iPhone OS 7_1_2 like Mac OS X) AppleWebKit/537.51.2 (KHTML, like Gecko) Version/7.0 Mobile/11D257 Safari/9537.53\"|32    |\n",
      "|null  |Cancelled|Mason    |M     |10           |Hart    |null  |free |Corpus Christi, TX                         |GET   |Cancellation Confirmation|1533157139000|174      |null|200   |1539318918000|\"Mozilla/5.0 (Macintosh; Intel Mac OS X 10_9_4) AppleWebKit/537.36 (KHTML, like Gecko) Chrome/36.0.1985.125 Safari/537.36\"                 |125   |\n",
      "|null  |Cancelled|Alexander|M     |332          |Garcia  |null  |paid |Indianapolis-Carmel-Anderson, IN           |GET   |Cancellation Confirmation|1536817381000|508      |null|200   |1539375441000|Mozilla/5.0 (Windows NT 6.1; WOW64; rv:31.0) Gecko/20100101 Firefox/31.0                                                                   |105   |\n",
      "|null  |Cancelled|Kayla    |F     |273          |Johnson |null  |paid |Philadelphia-Camden-Wilmington, PA-NJ-DE-MD|GET   |Cancellation Confirmation|1538333829000|797      |null|200   |1539465584000|Mozilla/5.0 (Windows NT 6.1; WOW64; rv:24.0) Gecko/20100101 Firefox/24.0                                                                   |17    |\n",
      "+------+---------+---------+------+-------------+--------+------+-----+-------------------------------------------+------+-------------------------+-------------+---------+----+------+-------------+-------------------------------------------------------------------------------------------------------------------------------------------+------+\n",
      "only showing top 5 rows\n",
      "\n"
     ]
    }
   ],
   "source": [
    "user_log = obs_and_def_churn(user_log)"
   ]
  },
  {
   "cell_type": "code",
   "execution_count": 15,
   "metadata": {},
   "outputs": [
    {
     "name": "stdout",
     "output_type": "stream",
     "text": [
      "44864\n",
      "52\n"
     ]
    }
   ],
   "source": [
    "### Double check that values make sense\n",
    "print(user_log.filter(user_log['userChurned'] == 1).count())\n",
    "print(user_log.filter(user_log['Churned'] == 1).count())"
   ]
  },
  {
   "cell_type": "markdown",
   "metadata": {},
   "source": [
    "## *Convert Data Prepared in Cleaning Step*\n",
    "\n",
    "- Since we ensured there were no missing values for user agent and location, let's split columns into more useful columns\n",
    "- User Agent: Converts to a browser and platform column\n",
    "- Location: Converts to a city and state column"
   ]
  },
  {
   "cell_type": "code",
   "execution_count": 16,
   "metadata": {},
   "outputs": [
    {
     "name": "stdout",
     "output_type": "stream",
     "text": [
      "['Windows NT 6.1', 'Macintosh', 'Windows NT 6.0', 'Windows NT 6.2', 'iPhone', 'Windows NT 6.3', 'iPad', 'compatible', 'X11', 'Windows NT 5.1']\n"
     ]
    }
   ],
   "source": [
    "### Let's take a look at the available platforms for creating our UDFs\n",
    "ua_list = user_log.select(['userAgent']).collect()\n",
    "\n",
    "ua_list = [re.search(r'\\(([^\\)]*)\\)', str(i[0]) )[0].split(';')[0].replace('(', '').replace(')', '') for i in ua_list]\n",
    "ua_list = list(dict.fromkeys(ua_list))\n",
    "print(ua_list)"
   ]
  },
  {
   "cell_type": "code",
   "execution_count": 17,
   "metadata": {},
   "outputs": [],
   "source": [
    "### Create necessary functions for UDFs\n",
    "\n",
    "def get_platform(x):\n",
    "    \"\"\"\n",
    "    Checks UA String for possible platforms that are referenced within the string.\n",
    "    \"\"\"\n",
    "    if 'compatible' in x:\n",
    "        return 'Windows'\n",
    "    elif 'iPad' in x:\n",
    "        return 'iPad'\n",
    "    elif 'iPhone' in x:\n",
    "        return 'iPhone'\n",
    "    elif 'Macintosh' in x:\n",
    "        return 'Mac'\n",
    "    elif 'Windows NT 5.1' in x:\n",
    "        return 'Windows'\n",
    "    elif 'Windows NT 6.0' in x:\n",
    "        return 'Windows'\n",
    "    elif 'Windows NT 6.1' in x:\n",
    "        return 'Windows'\n",
    "    elif 'Windows NT 6.2' in x:\n",
    "        return 'Windows'\n",
    "    elif 'Windows NT 6.3' in x:\n",
    "        return 'Windows'\n",
    "    elif 'X11' in x:\n",
    "        return 'Linux'\n",
    "    \n",
    "def get_browser(x):\n",
    "    \"\"\"\n",
    "    Checks UA String for possible browsers that are referenced within the string.\n",
    "    \"\"\"\n",
    "    if 'Firefox' in x:\n",
    "        return 'Firefox'\n",
    "    elif 'Safari' in x:\n",
    "        if 'Chrome' in x:\n",
    "            return 'Chrome'\n",
    "        else:\n",
    "            return 'Safari'\n",
    "    elif 'Trident' in x:\n",
    "        return 'IE'\n",
    "    else:\n",
    "        return np.NaN"
   ]
  },
  {
   "cell_type": "code",
   "execution_count": 18,
   "metadata": {},
   "outputs": [],
   "source": [
    "### Create UDFs, and add columns with them\n",
    "get_browser_udf = udf(get_browser, StringType())\n",
    "get_platform_udf = udf(get_platform, StringType())\n",
    "\n",
    "# Adding Columns\n",
    "user_log = user_log.withColumn( 'browser', get_browser_udf(user_log.userAgent) )\n",
    "user_log = user_log.withColumn( 'platform', get_platform_udf(user_log.userAgent) )"
   ]
  },
  {
   "cell_type": "code",
   "execution_count": 19,
   "metadata": {},
   "outputs": [],
   "source": [
    "### Doing the same with location data\n",
    "def get_state(x):\n",
    "    \"\"\"\n",
    "    Splits ccolumn values on a \", \" and retrieves the state entry.\n",
    "    \"\"\"\n",
    "    return x.split(', ')[1]\n",
    "\n",
    "def get_city(x):\n",
    "    \"\"\"\n",
    "    Splits column values on a \", \" and retrieves the city entry.\n",
    "    \"\"\"\n",
    "    return x.split(', ')[0]"
   ]
  },
  {
   "cell_type": "code",
   "execution_count": 20,
   "metadata": {},
   "outputs": [],
   "source": [
    "get_state_udf = udf(get_state, StringType())\n",
    "get_city_udf = udf(get_city, StringType())\n",
    "\n",
    "user_log = user_log.withColumn( 'state', get_state_udf(user_log.location) )\n",
    "user_log = user_log.withColumn( 'city', get_city_udf(user_log.location) )"
   ]
  },
  {
   "cell_type": "markdown",
   "metadata": {},
   "source": [
    "## *Visualize Converted Data with Bar Plots*"
   ]
  },
  {
   "cell_type": "code",
   "execution_count": 21,
   "metadata": {},
   "outputs": [
    {
     "data": {
      "image/png": "[encoded data removed]",
      "text/plain": [
       "<matplotlib.figure.Figure at 0x7f3071887048>"
      ]
     },
     "metadata": {
      "needs_background": "light"
     },
     "output_type": "display_data"
    }
   ],
   "source": [
    "churned_platform_group = user_log.drop_duplicates(['userId', 'platform']).groupby(['userChurned', 'platform']).count().sort(\"userChurned\").toPandas()\n",
    "\n",
    "plt.figure()\n",
    "plt.title('Platform of users who did and did not churn')\n",
    "sb.barplot( x = 'userChurned', y = 'count', data = churned_platform_group, hue = 'platform' )\n",
    "plt.show()"
   ]
  },
  {
   "cell_type": "code",
   "execution_count": 22,
   "metadata": {},
   "outputs": [
    {
     "data": {
      "image/png": "[encoded data removed]",
      "text/plain": [
       "<matplotlib.figure.Figure at 0x7f30680e5668>"
      ]
     },
     "metadata": {
      "needs_background": "light"
     },
     "output_type": "display_data"
    }
   ],
   "source": [
    "churned_platform_group = user_log.drop_duplicates(['userId', 'browser']).groupby(['userChurned', 'browser']).count().sort(\"userChurned\").toPandas()\n",
    "\n",
    "plt.figure()\n",
    "plt.title('Browser of users who did and did not churn')\n",
    "sb.barplot( x = 'userChurned', y = 'count', data = churned_platform_group, hue = 'browser' )\n",
    "plt.show()"
   ]
  },
  {
   "cell_type": "code",
   "execution_count": 23,
   "metadata": {},
   "outputs": [
    {
     "data": {
      "image/png": "[encoded data removed]",
      "text/plain": [
       "<matplotlib.figure.Figure at 0x7f3068666a58>"
      ]
     },
     "metadata": {},
     "output_type": "display_data"
    }
   ],
   "source": [
    "churned_state_group = user_log.drop_duplicates(['userId', 'state']).groupby(['userChurned', 'state']).count().sort(\"userChurned\").toPandas()\n",
    "\n",
    "plt.figure(num=None, figsize=(12, 6), dpi=80, facecolor='w', edgecolor='k')\n",
    "plt.title('State of users who did and did not churn')\n",
    "sb.barplot( x = 'state', y = 'count', data = churned_state_group, hue = 'userChurned' )\n",
    "plt.xticks(rotation=65, horizontalalignment='right')\n",
    "plt.show()"
   ]
  },
  {
   "cell_type": "markdown",
   "metadata": {},
   "source": [
    "## *Engineer and Visualize Daily Data*\n",
    "\n",
    "- Create column for unique day\n",
    "- Visualize avg daily sessions\n",
    "- Visualize avg daily page events"
   ]
  },
  {
   "cell_type": "code",
   "execution_count": 24,
   "metadata": {},
   "outputs": [],
   "source": [
    "### Create unique day column from timestamp\n",
    "get_hour = udf(lambda x: math.floor( (x / 1000.0) / (60*60*24) ) )\n",
    "user_log = user_log.withColumn(\"uniqueDay\", get_hour(user_log.ts))"
   ]
  },
  {
   "cell_type": "code",
   "execution_count": 25,
   "metadata": {},
   "outputs": [],
   "source": [
    "total_daily_sessions_df = user_log.select('userId', 'sessionId', 'uniqueDay').groupby(['userId', 'uniqueDay']).agg(count('sessionId').alias('totalDailySessions')).sort('userId')\n",
    "avg_daily_sessions_df = total_daily_sessions_df.groupBy('userId').avg('totalDailySessions').withColumnRenamed('avg(totalDailySessions)', 'avgDailySessions')\n",
    "\n",
    "user_log = user_log.join(total_daily_sessions_df, on=['userId', 'uniqueDay'])\n",
    "user_log = user_log.join(avg_daily_sessions_df, on='userId')"
   ]
  },
  {
   "cell_type": "code",
   "execution_count": 26,
   "metadata": {},
   "outputs": [
    {
     "name": "stdout",
     "output_type": "stream",
     "text": [
      "+--------------------+\n",
      "|                page|\n",
      "+--------------------+\n",
      "|               About|\n",
      "|          Add Friend|\n",
      "|     Add to Playlist|\n",
      "|              Cancel|\n",
      "|Cancellation Conf...|\n",
      "|           Downgrade|\n",
      "|               Error|\n",
      "|                Help|\n",
      "|                Home|\n",
      "|              Logout|\n",
      "|            NextSong|\n",
      "|         Roll Advert|\n",
      "|       Save Settings|\n",
      "|            Settings|\n",
      "|    Submit Downgrade|\n",
      "|      Submit Upgrade|\n",
      "|         Thumbs Down|\n",
      "|           Thumbs Up|\n",
      "|             Upgrade|\n",
      "+--------------------+\n",
      "\n",
      "None\n"
     ]
    }
   ],
   "source": [
    "### Let's take a look at the page interaction options\n",
    "print(user_log.select(['page']).dropDuplicates().sort('page').show())"
   ]
  },
  {
   "cell_type": "code",
   "execution_count": 27,
   "metadata": {},
   "outputs": [],
   "source": [
    "def create_avg_daily_page_interaction_column(df, page_interaction, page_title):\n",
    "    \"\"\"\n",
    "    Creates a column that counts the number of times a user interacted with a certain page, in a given day.\n",
    "    Then, the avg daily value is computed from the total, and joined with the dataframe.\n",
    "    \"\"\"\n",
    "    total_daily_df = df.select('userId', 'page', col('uniqueDay').alias('uniqueDay')).groupby(['userId', 'uniqueDay']).agg(count(when(col(\"page\") == page_interaction, 1)).alias('totalDaily' + page_title)).sort('userId')\n",
    "    avg_dailydf = total_daily_df.groupBy('userId').avg('totalDaily' + page_title).withColumnRenamed('avg(totalDaily' + page_title + ')', 'avgDaily' + page_title)\n",
    "\n",
    "    df = df.join(avg_dailydf, on='userId')\n",
    "    \n",
    "    return df\n",
    "    "
   ]
  },
  {
   "cell_type": "code",
   "execution_count": 28,
   "metadata": {},
   "outputs": [],
   "source": [
    "user_log = create_avg_daily_page_interaction_column(user_log, 'Thumbs Up', 'ThumbsUp')\n",
    "user_log = create_avg_daily_page_interaction_column(user_log, 'Thumbs Down', 'ThumbsDown')\n",
    "user_log = create_avg_daily_page_interaction_column(user_log, 'Error', 'Errors')\n",
    "user_log = create_avg_daily_page_interaction_column(user_log, 'Roll Advert', 'Advertisements')\n",
    "user_log = create_avg_daily_page_interaction_column(user_log, 'NextSong', 'NextSong')"
   ]
  },
  {
   "cell_type": "code",
   "execution_count": 34,
   "metadata": {},
   "outputs": [],
   "source": [
    "def visualize_box_and_whisker(df, column):\n",
    "    \"\"\"\n",
    "    For a given column, this generates a box and whisker plot, splitting the user data between those who did or did not churn.\n",
    "    \"\"\"\n",
    "    avg_daily_pd = user_log.select(['userId', col(column).alias(column),'userChurned']).drop_duplicates(['userId']).sort(\"userChurned\").toPandas()\n",
    "\n",
    "    plt.figure()\n",
    "    sb.boxplot(y=column, x=\"userChurned\", data=avg_daily_pd)\n",
    "    plt.title(column + ' between users who did or did not churn')\n",
    "    plt.show()"
   ]
  },
  {
   "cell_type": "code",
   "execution_count": 35,
   "metadata": {},
   "outputs": [
    {
     "data": {
      "image/png": "[encoded data removed]",
      "text/plain": [
       "<matplotlib.figure.Figure at 0x7f30716ff080>"
      ]
     },
     "metadata": {
      "needs_background": "light"
     },
     "output_type": "display_data"
    }
   ],
   "source": [
    "visualize_box_and_whisker('user_log', 'avgDailyThumbsUp')"
   ]
  },
  {
   "cell_type": "code",
   "execution_count": 36,
   "metadata": {},
   "outputs": [
    {
     "data": {
      "image/png": "[encoded data removed]",
      "text/plain": [
       "<matplotlib.figure.Figure at 0x7f30714ea550>"
      ]
     },
     "metadata": {
      "needs_background": "light"
     },
     "output_type": "display_data"
    }
   ],
   "source": [
    "visualize_box_and_whisker('user_log', 'avgDailyThumbsDown')"
   ]
  },
  {
   "cell_type": "markdown",
   "metadata": {},
   "source": [
    "## *Additional Informative Columns (Not Page Interactions)*"
   ]
  },
  {
   "cell_type": "code",
   "execution_count": 37,
   "metadata": {},
   "outputs": [],
   "source": [
    "total_distinct_artists_df = user_log.select('userId', 'artist').groupby('userId').agg(countDistinct('artist')).withColumnRenamed('count(DISTINCT artist)', 'totalDistinctArtists')\n",
    "user_log = user_log.join(total_distinct_artists_df, on='userId')\n",
    "\n",
    "\n",
    "duration_using_service_df = user_log.select('userId', 'uniqueDay').groupby('userId').agg(max('uniqueDay') - min('uniqueDay')).withColumnRenamed('(max(uniqueDay) - min(uniqueDay))', 'durationUsingService')\n",
    "user_log = user_log.join(duration_using_service_df, on='userId')"
   ]
  },
  {
   "cell_type": "code",
   "execution_count": 38,
   "metadata": {},
   "outputs": [
    {
     "data": {
      "image/png": "[encoded data removed]",
      "text/plain": [
       "<matplotlib.figure.Figure at 0x7f307160bd30>"
      ]
     },
     "metadata": {
      "needs_background": "light"
     },
     "output_type": "display_data"
    }
   ],
   "source": [
    "visualize_box_and_whisker('user_log', 'totalDistinctArtists')"
   ]
  },
  {
   "cell_type": "code",
   "execution_count": 39,
   "metadata": {},
   "outputs": [
    {
     "data": {
      "image/png": "[encoded data removed]",
      "text/plain": [
       "<matplotlib.figure.Figure at 0x7f3071504ac8>"
      ]
     },
     "metadata": {
      "needs_background": "light"
     },
     "output_type": "display_data"
    }
   ],
   "source": [
    "visualize_box_and_whisker('user_log', 'durationUsingService')"
   ]
  },
  {
   "cell_type": "markdown",
   "metadata": {},
   "source": [
    "## *Select Features and Prepare Model*\n",
    "\n",
    "- Drop unnecessary columns\n",
    "- Drop duplicate user ID files, in order to predict churned values for each user"
   ]
  },
  {
   "cell_type": "code",
   "execution_count": 40,
   "metadata": {},
   "outputs": [
    {
     "name": "stdout",
     "output_type": "stream",
     "text": [
      "root\n",
      " |-- userId: string (nullable = true)\n",
      " |-- uniqueDay: string (nullable = true)\n",
      " |-- artist: string (nullable = true)\n",
      " |-- auth: string (nullable = true)\n",
      " |-- firstName: string (nullable = true)\n",
      " |-- gender: string (nullable = true)\n",
      " |-- itemInSession: long (nullable = true)\n",
      " |-- lastName: string (nullable = true)\n",
      " |-- length: double (nullable = true)\n",
      " |-- level: string (nullable = true)\n",
      " |-- location: string (nullable = true)\n",
      " |-- method: string (nullable = true)\n",
      " |-- page: string (nullable = true)\n",
      " |-- registration: long (nullable = true)\n",
      " |-- sessionId: long (nullable = true)\n",
      " |-- song: string (nullable = true)\n",
      " |-- status: long (nullable = true)\n",
      " |-- ts: long (nullable = true)\n",
      " |-- userAgent: string (nullable = true)\n",
      " |-- Churned: integer (nullable = true)\n",
      " |-- userChurned: integer (nullable = true)\n",
      " |-- browser: string (nullable = true)\n",
      " |-- platform: string (nullable = true)\n",
      " |-- state: string (nullable = true)\n",
      " |-- city: string (nullable = true)\n",
      " |-- totalDailySessions: long (nullable = false)\n",
      " |-- avgDailySessions: double (nullable = true)\n",
      " |-- avgDailyThumbsUp: double (nullable = true)\n",
      " |-- avgDailyThumbsDown: double (nullable = true)\n",
      " |-- avgDailyErrors: double (nullable = true)\n",
      " |-- avgDailyAdvertisements: double (nullable = true)\n",
      " |-- avgDailyNextSong: double (nullable = true)\n",
      " |-- totalDistinctArtists: long (nullable = false)\n",
      " |-- durationUsingService: double (nullable = true)\n",
      "\n"
     ]
    }
   ],
   "source": [
    "user_log.printSchema()\n",
    "\n",
    "# level (cat)\n",
    "# browser (cat)\n",
    "# platform (cat)\n",
    "# state (cat)\n",
    "# city (cat)\n",
    "# avgDailySessions (num)\n",
    "# avgDailyThumbsUp (num)\n",
    "# avgDailyThumbsDown (num)\n",
    "# avgDailyErrors (num)\n",
    "# avgDailyAdvertisements (num)\n",
    "# avgDailyNextSong (num)\n",
    "# totalDistinctArtists (num)\n",
    "# durationUsingService (num)"
   ]
  },
  {
   "cell_type": "code",
   "execution_count": 41,
   "metadata": {},
   "outputs": [],
   "source": [
    "user_log = user_log.drop('artist', 'auth', 'firstName', 'gender', 'itemInSession', 'lastName', 'length', 'location', 'method', 'registration', 'sessionId', 'song', 'status', 'ts', 'userAgent', 'Churned', 'uniqueDay', 'page')\n",
    "\n",
    "user_log = user_log.dropDuplicates(['userId'])\n"
   ]
  },
  {
   "cell_type": "code",
   "execution_count": 42,
   "metadata": {},
   "outputs": [],
   "source": [
    "def transform_features_pipeline(df):\n",
    "    \"\"\"\n",
    "    This pipeline vectorizes all of the features, for use in prediction.\n",
    "    Leverages StringIndexer for categorical data, and VectorAssembler for numerical data.\n",
    "    Once the categorical variables are indexed, and the numerical data is scaled, VectorAssembler is run again to combine all of the results.\n",
    "    \"\"\"\n",
    "    ### Create pipeline for processing data\n",
    "    # Categorical Data\n",
    "    pipeline_stages = [StringIndexer(inputCol=column, outputCol=column+\"Index\") \n",
    "                        for column in ['level','browser', 'platform', 'state', 'city'] ]\n",
    "\n",
    "    # Numerical Data\n",
    "    assembler = VectorAssembler(inputCols=['avgDailySessions', 'avgDailyThumbsUp', 'avgDailyThumbsDown', 'avgDailyErrors', 'avgDailyAdvertisements', 'avgDailyNextSong', 'totalDistinctArtists', 'durationUsingService'], outputCol=\"features\")\n",
    "    pipeline_stages.append(assembler)\n",
    "\n",
    "    standard_scaler = StandardScaler(inputCol='features', outputCol='scaledFeatures')\n",
    "    pipeline_stages.append(standard_scaler)\n",
    "\n",
    "    # Categorical and Numerical Data\n",
    "    combined_assembler = VectorAssembler(inputCols=['scaledFeatures','levelIndex', 'browserIndex', 'platformIndex', 'stateIndex', 'cityIndex'], outputCol='combinedFeatures')\n",
    "\n",
    "    pipeline_stages.append(combined_assembler)\n",
    "\n",
    "    process_pipeline = Pipeline(stages=pipeline_stages)\n",
    "    \n",
    "    ### Fit and transform the df into features\n",
    "    \n",
    "    df_model = process_pipeline.fit(df).transform(df)\n",
    "\n",
    "    df_model = df_model.select('userChurned','combinedFeatures').withColumnRenamed('userChurned', 'label')\n",
    "    \n",
    "    return df_model\n",
    "    \n",
    "    "
   ]
  },
  {
   "cell_type": "code",
   "execution_count": 43,
   "metadata": {},
   "outputs": [],
   "source": [
    "user_log_model = transform_features_pipeline(user_log)"
   ]
  },
  {
   "cell_type": "markdown",
   "metadata": {},
   "source": [
    "## *Split Training and Test Data*\n",
    "\n",
    "- Cache the values to ensure driver does not run out of memory"
   ]
  },
  {
   "cell_type": "code",
   "execution_count": 44,
   "metadata": {},
   "outputs": [
    {
     "data": {
      "text/plain": [
       "DataFrame[label: int, combinedFeatures: vector]"
      ]
     },
     "execution_count": 44,
     "metadata": {},
     "output_type": "execute_result"
    }
   ],
   "source": [
    "train, test = user_log_model.randomSplit([0.8, 0.2], seed=42)\n",
    "\n",
    "train.cache()\n",
    "test.cache()"
   ]
  },
  {
   "cell_type": "code",
   "execution_count": 45,
   "metadata": {},
   "outputs": [],
   "source": [
    "f1_evaluator = MulticlassClassificationEvaluator(metricName='f1')\n",
    "auc_evaluator = BinaryClassificationEvaluator(metricName='areaUnderROC')\n",
    "\n",
    "def check_model_f1(model, train, test):\n",
    "    \"\"\"\n",
    "    Fits the supplied model, and then evaluates accuracy through the F1 score, and area under ROC.\n",
    "    \"\"\"\n",
    "    fitted_model = model.fit(train)\n",
    "    model_results = fitted_model.transform(test)\n",
    "    \n",
    "    f1_score = f1_evaluator.evaluate(model_results.select(col('label'), col('prediction')))\n",
    "    \n",
    "    print('The F1 score on the test set is {:.2%}'.format(f1_score)) \n",
    "    \n",
    "    roc_value = auc_evaluator.evaluate(model_results)\n",
    "    \n",
    "    print('The areaUnderROC on the test set is {:.2%}'.format(roc_value))"
   ]
  },
  {
   "cell_type": "code",
   "execution_count": 46,
   "metadata": {},
   "outputs": [],
   "source": [
    "log_reg = LogisticRegression(featuresCol=\"combinedFeatures\", labelCol=\"label\", maxIter=10)\n",
    "gbt = GBTClassifier(featuresCol=\"combinedFeatures\", labelCol=\"label\", maxIter=10, maxBins=120)\n",
    "rf = RandomForestClassifier(featuresCol=\"combinedFeatures\", labelCol=\"label\", maxBins=120)\n"
   ]
  },
  {
   "cell_type": "code",
   "execution_count": 47,
   "metadata": {},
   "outputs": [
    {
     "name": "stdout",
     "output_type": "stream",
     "text": [
      "The F1 score on the test set is 70.31%\n",
      "The areaUnderROC on the test set is 86.25%\n"
     ]
    }
   ],
   "source": [
    "check_model_f1(log_reg, train, test)"
   ]
  },
  {
   "cell_type": "code",
   "execution_count": 49,
   "metadata": {},
   "outputs": [
    {
     "name": "stdout",
     "output_type": "stream",
     "text": [
      "The F1 score on the test set is 60.27%\n",
      "The areaUnderROC on the test set is 72.71%\n"
     ]
    }
   ],
   "source": [
    "check_model_f1(gbt, train, test)"
   ]
  },
  {
   "cell_type": "code",
   "execution_count": 50,
   "metadata": {},
   "outputs": [
    {
     "name": "stdout",
     "output_type": "stream",
     "text": [
      "The F1 score on the test set is 71.70%\n",
      "The areaUnderROC on the test set is 79.17%\n"
     ]
    }
   ],
   "source": [
    "check_model_f1(rf, train, test)"
   ]
  },
  {
   "cell_type": "markdown",
   "metadata": {},
   "source": [
    "## *Improve Best Model with CrossValidator*"
   ]
  },
  {
   "cell_type": "code",
   "execution_count": 55,
   "metadata": {},
   "outputs": [],
   "source": [
    "log_reg = LogisticRegression(featuresCol=\"combinedFeatures\", labelCol=\"label\")\n",
    "\n",
    "log_reg_param_grid = ParamGridBuilder().addGrid(log_reg.elasticNetParam, [0, 0.5]).addGrid(log_reg.maxIter, [10, 50]).build()\n",
    "cross_validator = CrossValidator(estimator = log_reg, estimatorParamMaps = log_reg_param_grid, evaluator = MulticlassClassificationEvaluator(metricName='f1'), numFolds = 3)"
   ]
  },
  {
   "cell_type": "code",
   "execution_count": 56,
   "metadata": {},
   "outputs": [],
   "source": [
    "cv_model = cross_validator.fit(train)\n",
    "cv_test_results = cv_model.transform(test)\n",
    "cv_train_results = cv_model.transform(train)"
   ]
  },
  {
   "cell_type": "code",
   "execution_count": 57,
   "metadata": {},
   "outputs": [
    {
     "name": "stdout",
     "output_type": "stream",
     "text": [
      "The F1 score on the training set for the hypertuned log model is 79.55%\n",
      "The F1 score on the test set for the hypertuned log model is 86.47%\n"
     ]
    }
   ],
   "source": [
    "f1_score_train = f1_evaluator.evaluate(cv_test_results.select(col('label'), col('prediction')))\n",
    "print('The F1 score on the training set for the hypertuned log model is {:.2%}'.format(f1_score_train)) \n",
    "\n",
    "f1_score_test = f1_evaluator.evaluate(cv_train_results.select(col('label'), col('prediction')))\n",
    "print('The F1 score on the test set for the hypertuned log model is {:.2%}'.format(f1_score_test))"
   ]
  },
  {
   "cell_type": "code",
   "execution_count": 58,
   "metadata": {},
   "outputs": [
    {
     "name": "stdout",
     "output_type": "stream",
     "text": [
      "The areaUnderROC on the training set for the hypertuned log model is 88.99%\n",
      "The areaUnderROC on the test set for the hypertuned log model is 87.92%\n"
     ]
    }
   ],
   "source": [
    "roc_train_value = auc_evaluator.evaluate(cv_train_results)\n",
    "print('The areaUnderROC on the training set for the hypertuned log model is {:.2%}'.format(roc_train_value))\n",
    "\n",
    "roc_test_value = auc_evaluator.evaluate(cv_test_results)\n",
    "print('The areaUnderROC on the test set for the hypertuned log model is {:.2%}'.format(roc_test_value))"
   ]
  },
  {
   "cell_type": "code",
   "execution_count": 59,
   "metadata": {},
   "outputs": [
    {
     "data": {
      "text/plain": [
       "(array([ 0,  1,  2,  3,  4,  5,  6,  7,  8,  9, 10, 11, 12]),\n",
       " <a list of 13 Text xticklabel objects>)"
      ]
     },
     "execution_count": 59,
     "metadata": {},
     "output_type": "execute_result"
    },
    {
     "data": {
      "image/png": "[encoded data removed]",
      "text/plain": [
       "<matplotlib.figure.Figure at 0x7f307162fef0>"
      ]
     },
     "metadata": {
      "needs_background": "light"
     },
     "output_type": "display_data"
    }
   ],
   "source": [
    "cv_feature_vals = cv_model.bestModel.coefficients\n",
    "feature_cols = ['avgDailySessions', 'avgDailyThumbsUp', 'avgDailyThumbsDown', 'avgDailyErrors', 'avgDailyAdvertisements', 'avgDailyNextSong', 'totalDistinctArtists', 'durationUsingService','levelIndex', 'browserIndex', 'platformIndex', 'stateIndex', 'cityIndex']\n",
    "\n",
    "x_pos = np.arange(len(feature_cols))\n",
    " \n",
    "plt.bar(x_pos, cv_feature_vals, align='center')\n",
    "plt.xticks(x_pos, feature_cols)\n",
    "plt.ylabel('Importance Score')\n",
    "plt.xlabel('Coefficients')\n",
    "plt.xticks(rotation=65, horizontalalignment='right')"
   ]
  },
  {
   "cell_type": "markdown",
   "metadata": {},
   "source": [
    "## Further Steps\n",
    "* Run these steps on a hadoop cluster to see how the models perform on the large dataset\n",
    "* Include more metrics about the user that are weekly/monthly\n",
    "* Define a user journey to count: say the user hits next song, receives an advertisement, and then logs out. Or times where a user listened to more than 10 songs in a session, for example."
   ]
  },
  {
   "cell_type": "code",
   "execution_count": null,
   "metadata": {},
   "outputs": [],
   "source": []
  }
 ],
 "metadata": {
  "kernelspec": {
   "display_name": "Python 3",
   "language": "python",
   "name": "python3"
  },
  "language_info": {
   "codemirror_mode": {
    "name": "ipython",
    "version": 3
   },
   "file_extension": ".py",
   "mimetype": "text/x-python",
   "name": "python",
   "nbconvert_exporter": "python",
   "pygments_lexer": "ipython3",
   "version": "3.6.3"
  }
 },
 "nbformat": 4,
 "nbformat_minor": 2
}
