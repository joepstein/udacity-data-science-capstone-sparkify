{
 "cells": [
  {
   "cell_type": "markdown",
   "metadata": {},
   "source": [
    "# Sparkify Project Workspace\n",
    "This workspace contains a tiny subset (128MB) of the full dataset available (12GB). Feel free to use this workspace to build your project, or to explore a smaller subset with Spark before deploying your cluster on the cloud. Instructions for setting up your Spark cluster is included in the last lesson of the Extracurricular Spark Course content.\n",
    "\n",
    "You can follow the steps below to guide your data analysis and model building portion of this project."
   ]
  },
  {
   "cell_type": "code",
   "execution_count": 1,
   "metadata": {},
   "outputs": [],
   "source": [
    "# import libraries\n",
    "from pyspark.sql import SparkSession\n",
    "from pyspark.sql.window import Window\n",
    "from pyspark.sql.functions import udf, max, lit, when, col, count\n",
    "from pyspark.sql.types import *\n",
    "\n",
    "\n",
    "import datetime\n",
    "import math\n",
    "import re\n",
    "import numpy as np\n",
    "import matplotlib.pyplot as plt\n",
    "import seaborn as sb\n",
    "\n",
    "from pyspark.ml import Pipeline\n",
    "from pyspark.ml.classification import LogisticRegression, GBTClassifier, RandomForestClassifier\n",
    "from pyspark.ml.evaluation import BinaryClassificationEvaluator, MulticlassClassificationEvaluator\n",
    "from pyspark.ml.feature import StandardScaler, StringIndexer, VectorAssembler\n",
    "from pyspark.ml.tuning import CrossValidator, ParamGridBuilder"
   ]
  },
  {
   "cell_type": "code",
   "execution_count": 2,
   "metadata": {},
   "outputs": [],
   "source": [
    "# create a Spark session\n",
    "spark = SparkSession.builder.appName(\"EDA  Sparkify\").getOrCreate()"
   ]
  },
  {
   "cell_type": "markdown",
   "metadata": {},
   "source": [
    "# Load and Clean Dataset\n",
    "In this workspace, the mini-dataset file is `mini_sparkify_event_data.json`. Load and clean the dataset, checking for invalid or missing data - for example, records without userids or sessionids. "
   ]
  },
  {
   "cell_type": "code",
   "execution_count": 3,
   "metadata": {},
   "outputs": [],
   "source": [
    "path = \"./mini_sparkify_event_data.json\"\n",
    "user_log = spark.read.json(path)"
   ]
  },
  {
   "cell_type": "code",
   "execution_count": 4,
   "metadata": {},
   "outputs": [
    {
     "name": "stdout",
     "output_type": "stream",
     "text": [
      "root\n",
      " |-- artist: string (nullable = true)\n",
      " |-- auth: string (nullable = true)\n",
      " |-- firstName: string (nullable = true)\n",
      " |-- gender: string (nullable = true)\n",
      " |-- itemInSession: long (nullable = true)\n",
      " |-- lastName: string (nullable = true)\n",
      " |-- length: double (nullable = true)\n",
      " |-- level: string (nullable = true)\n",
      " |-- location: string (nullable = true)\n",
      " |-- method: string (nullable = true)\n",
      " |-- page: string (nullable = true)\n",
      " |-- registration: long (nullable = true)\n",
      " |-- sessionId: long (nullable = true)\n",
      " |-- song: string (nullable = true)\n",
      " |-- status: long (nullable = true)\n",
      " |-- ts: long (nullable = true)\n",
      " |-- userAgent: string (nullable = true)\n",
      " |-- userId: string (nullable = true)\n",
      "\n"
     ]
    }
   ],
   "source": [
    "user_log.printSchema()"
   ]
  },
  {
   "cell_type": "code",
   "execution_count": 5,
   "metadata": {},
   "outputs": [
    {
     "name": "stdout",
     "output_type": "stream",
     "text": [
      "+------+\n",
      "|userId|\n",
      "+------+\n",
      "|      |\n",
      "|    10|\n",
      "|   100|\n",
      "|100001|\n",
      "|100002|\n",
      "|100003|\n",
      "|100004|\n",
      "|100005|\n",
      "|100006|\n",
      "|100007|\n",
      "|100008|\n",
      "|100009|\n",
      "|100010|\n",
      "|100011|\n",
      "|100012|\n",
      "|100013|\n",
      "|100014|\n",
      "|100015|\n",
      "|100016|\n",
      "|100017|\n",
      "+------+\n",
      "only showing top 20 rows\n",
      "\n"
     ]
    }
   ],
   "source": [
    "### Find empty user strings and remove them from the dataset\n",
    "user_log.select(['userId']).dropDuplicates().sort('userId').show()"
   ]
  },
  {
   "cell_type": "code",
   "execution_count": 6,
   "metadata": {},
   "outputs": [
    {
     "name": "stdout",
     "output_type": "stream",
     "text": [
      "286500\n",
      "278154\n"
     ]
    }
   ],
   "source": [
    "print(user_log.count())\n",
    "user_log = user_log.filter(user_log.userId != \"\") #on the mini data \n",
    "print(user_log.count())"
   ]
  },
  {
   "cell_type": "code",
   "execution_count": 7,
   "metadata": {},
   "outputs": [
    {
     "name": "stdout",
     "output_type": "stream",
     "text": [
      "+--------------------+\n",
      "|           userAgent|\n",
      "+--------------------+\n",
      "|\"Mozilla/5.0 (Mac...|\n",
      "|\"Mozilla/5.0 (Mac...|\n",
      "|\"Mozilla/5.0 (Mac...|\n",
      "|\"Mozilla/5.0 (Mac...|\n",
      "|\"Mozilla/5.0 (Mac...|\n",
      "|\"Mozilla/5.0 (Mac...|\n",
      "|\"Mozilla/5.0 (Mac...|\n",
      "|\"Mozilla/5.0 (Mac...|\n",
      "|\"Mozilla/5.0 (Mac...|\n",
      "|\"Mozilla/5.0 (Mac...|\n",
      "|\"Mozilla/5.0 (Mac...|\n",
      "|\"Mozilla/5.0 (Mac...|\n",
      "|\"Mozilla/5.0 (Mac...|\n",
      "|\"Mozilla/5.0 (Mac...|\n",
      "|\"Mozilla/5.0 (Mac...|\n",
      "|\"Mozilla/5.0 (Mac...|\n",
      "|\"Mozilla/5.0 (Mac...|\n",
      "|\"Mozilla/5.0 (Win...|\n",
      "|\"Mozilla/5.0 (Win...|\n",
      "|\"Mozilla/5.0 (Win...|\n",
      "+--------------------+\n",
      "only showing top 20 rows\n",
      "\n"
     ]
    }
   ],
   "source": [
    "### Check the user agent column\n",
    "user_log.select(['userAgent']).dropDuplicates().sort('userAgent').show()"
   ]
  },
  {
   "cell_type": "code",
   "execution_count": 8,
   "metadata": {},
   "outputs": [
    {
     "data": {
      "text/plain": [
       "0"
      ]
     },
     "execution_count": 8,
     "metadata": {},
     "output_type": "execute_result"
    }
   ],
   "source": [
    "### Double check\n",
    "user_log.filter(user_log.userAgent == \"\").count()"
   ]
  },
  {
   "cell_type": "code",
   "execution_count": 9,
   "metadata": {},
   "outputs": [
    {
     "name": "stdout",
     "output_type": "stream",
     "text": [
      "+--------------------+\n",
      "|            location|\n",
      "+--------------------+\n",
      "|          Albany, OR|\n",
      "|Albany-Schenectad...|\n",
      "|      Alexandria, LA|\n",
      "|Allentown-Bethleh...|\n",
      "|       Anchorage, AK|\n",
      "|Atlanta-Sandy Spr...|\n",
      "|Atlantic City-Ham...|\n",
      "|Austin-Round Rock...|\n",
      "|     Bakersfield, CA|\n",
      "|Baltimore-Columbi...|\n",
      "|        Billings, MT|\n",
      "|Birmingham-Hoover...|\n",
      "|Boston-Cambridge-...|\n",
      "|         Boulder, CO|\n",
      "|         Bozeman, MT|\n",
      "|Bridgeport-Stamfo...|\n",
      "|Buffalo-Cheektowa...|\n",
      "|Charlotte-Concord...|\n",
      "|Chicago-Napervill...|\n",
      "|Cincinnati, OH-KY-IN|\n",
      "+--------------------+\n",
      "only showing top 20 rows\n",
      "\n",
      "None\n",
      "0\n"
     ]
    }
   ],
   "source": [
    "### Check and double check location\n",
    "print(user_log.select(['location']).dropDuplicates().sort('location').show())\n",
    "print(user_log.filter(user_log.location == \"\").count())"
   ]
  },
  {
   "cell_type": "code",
   "execution_count": 10,
   "metadata": {},
   "outputs": [],
   "source": [
    "### EDA\n",
    "# 1. Define Churn\n",
    "# 2. Create Visualizations\n",
    "## a. Bar graph of churn data by browser\n",
    "## b. Bar graph of churn data by location\n",
    "## c. Box and whisker of thumbs up per day for churned users\n",
    "## d. Box and whikser of thumbs up per day for non-churned users"
   ]
  },
  {
   "cell_type": "code",
   "execution_count": 11,
   "metadata": {},
   "outputs": [
    {
     "name": "stdout",
     "output_type": "stream",
     "text": [
      "+------+---------+---------+------+-------------+--------+------+-----+-------------------------------------------+------+-------------------------+-------------+---------+----+------+-------------+-------------------------------------------------------------------------------------------------------------------------------------------+------+\n",
      "|artist|auth     |firstName|gender|itemInSession|lastName|length|level|location                                   |method|page                     |registration |sessionId|song|status|ts           |userAgent                                                                                                                                  |userId|\n",
      "+------+---------+---------+------+-------------+--------+------+-----+-------------------------------------------+------+-------------------------+-------------+---------+----+------+-------------+-------------------------------------------------------------------------------------------------------------------------------------------+------+\n",
      "|null  |Cancelled|Adriel   |M     |104          |Mendoza |null  |paid |Kansas City, MO-KS                         |GET   |Cancellation Confirmation|1535623466000|514      |null|200   |1538943990000|\"Mozilla/5.0 (Macintosh; Intel Mac OS X 10_9_4) AppleWebKit/537.77.4 (KHTML, like Gecko) Version/7.0.5 Safari/537.77.4\"                    |18    |\n",
      "|null  |Cancelled|Diego    |M     |56           |Mckee   |null  |paid |Phoenix-Mesa-Scottsdale, AZ                |GET   |Cancellation Confirmation|1537167593000|540      |null|200   |1539033046000|\"Mozilla/5.0 (iPhone; CPU iPhone OS 7_1_2 like Mac OS X) AppleWebKit/537.51.2 (KHTML, like Gecko) Version/7.0 Mobile/11D257 Safari/9537.53\"|32    |\n",
      "|null  |Cancelled|Mason    |M     |10           |Hart    |null  |free |Corpus Christi, TX                         |GET   |Cancellation Confirmation|1533157139000|174      |null|200   |1539318918000|\"Mozilla/5.0 (Macintosh; Intel Mac OS X 10_9_4) AppleWebKit/537.36 (KHTML, like Gecko) Chrome/36.0.1985.125 Safari/537.36\"                 |125   |\n",
      "|null  |Cancelled|Alexander|M     |332          |Garcia  |null  |paid |Indianapolis-Carmel-Anderson, IN           |GET   |Cancellation Confirmation|1536817381000|508      |null|200   |1539375441000|Mozilla/5.0 (Windows NT 6.1; WOW64; rv:31.0) Gecko/20100101 Firefox/31.0                                                                   |105   |\n",
      "|null  |Cancelled|Kayla    |F     |273          |Johnson |null  |paid |Philadelphia-Camden-Wilmington, PA-NJ-DE-MD|GET   |Cancellation Confirmation|1538333829000|797      |null|200   |1539465584000|Mozilla/5.0 (Windows NT 6.1; WOW64; rv:24.0) Gecko/20100101 Firefox/24.0                                                                   |17    |\n",
      "+------+---------+---------+------+-------------+--------+------+-----+-------------------------------------------+------+-------------------------+-------------+---------+----+------+-------------+-------------------------------------------------------------------------------------------------------------------------------------------+------+\n",
      "only showing top 5 rows\n",
      "\n"
     ]
    }
   ],
   "source": [
    "user_log.filter(\"page = 'Cancellation Confirmation'\").show(5,False)"
   ]
  },
  {
   "cell_type": "code",
   "execution_count": 12,
   "metadata": {},
   "outputs": [],
   "source": [
    "# add churn, 1 or 0\n",
    "churned = udf(lambda x: int(x==\"Cancellation Confirmation\"), IntegerType())\n",
    "user_log = user_log.withColumn(\"Churned\", churned(\"page\"))\n",
    "\n",
    "# add churn user flag\n",
    "user_log = user_log.withColumn(\"userChurned\", max('Churned').over(Window.partitionBy('UserId')))\n"
   ]
  },
  {
   "cell_type": "code",
   "execution_count": 13,
   "metadata": {},
   "outputs": [
    {
     "name": "stdout",
     "output_type": "stream",
     "text": [
      "44864\n",
      "52\n"
     ]
    }
   ],
   "source": [
    "print(user_log.filter(user_log['userChurned'] == 1).count())\n",
    "print(user_log.filter(user_log['Churned'] == 1).count())"
   ]
  },
  {
   "cell_type": "code",
   "execution_count": 14,
   "metadata": {
    "scrolled": true
   },
   "outputs": [
    {
     "name": "stdout",
     "output_type": "stream",
     "text": [
      "['Windows NT 6.1', 'Macintosh', 'Windows NT 6.0', 'Windows NT 6.2', 'iPhone', 'Windows NT 6.3', 'iPad', 'compatible', 'X11', 'Windows NT 5.1']\n"
     ]
    }
   ],
   "source": [
    "ua_list = user_log.select(['userAgent']).collect()\n",
    "\n",
    "ua_list = [re.search(r'\\(([^\\)]*)\\)', str(i[0]) )[0].split(';')[0].replace('(', '').replace(')', '') for i in ua_list]\n",
    "ua_list = list(dict.fromkeys(ua_list))\n",
    "print(ua_list)\n"
   ]
  },
  {
   "cell_type": "code",
   "execution_count": 15,
   "metadata": {},
   "outputs": [],
   "source": [
    "def get_browser(x):\n",
    "    if 'Firefox' in x:\n",
    "        return 'Firefox'\n",
    "    elif 'Safari' in x:\n",
    "        if 'Chrome' in x:\n",
    "            return 'Chrome'\n",
    "        else:\n",
    "            return 'Safari'\n",
    "    elif 'Trident' in x:\n",
    "        return 'IE'\n",
    "    else:\n",
    "        return np.NaN\n",
    "\n",
    "get_browser_udf = udf(get_browser, StringType())\n",
    "\n",
    "\n",
    "def get_platform(x):\n",
    "    if 'compatible' in x:\n",
    "        return 'Windows'\n",
    "    elif 'iPad' in x:\n",
    "        return 'iPad'\n",
    "    elif 'iPhone' in x:\n",
    "        return 'iPhone'\n",
    "    elif 'Macintosh' in x:\n",
    "        return 'Mac'\n",
    "    elif 'Windows NT 5.1' in x:\n",
    "        return 'Windows'\n",
    "    elif 'Windows NT 6.0' in x:\n",
    "        return 'Windows'\n",
    "    elif 'Windows NT 6.1' in x:\n",
    "        return 'Windows'\n",
    "    elif 'Windows NT 6.2' in x:\n",
    "        return 'Windows'\n",
    "    elif 'Windows NT 6.3' in x:\n",
    "        return 'Windows'\n",
    "    elif 'X11' in x:\n",
    "        return 'Linux'\n",
    "    \n",
    "get_platform_udf = udf(get_platform, StringType())"
   ]
  },
  {
   "cell_type": "code",
   "execution_count": 16,
   "metadata": {},
   "outputs": [],
   "source": [
    "user_log = user_log.withColumn( 'browser', get_browser_udf(user_log.userAgent) )\n",
    "user_log = user_log.withColumn( 'platform', get_platform_udf(user_log.userAgent) )"
   ]
  },
  {
   "cell_type": "code",
   "execution_count": 17,
   "metadata": {},
   "outputs": [
    {
     "data": {
      "text/plain": [
       "[Row(artist='Sleeping With Sirens', auth='Logged In', firstName='Darianna', gender='F', itemInSession=0, lastName='Carpenter', length=202.97098, level='free', location='Bridgeport-Stamford-Norwalk, CT', method='PUT', page='NextSong', registration=1538016340000, sessionId=31, song='Captain Tyin Knots VS Mr Walkway (No Way)', status=200, ts=1539003534000, userAgent='\"Mozilla/5.0 (iPhone; CPU iPhone OS 7_1_2 like Mac OS X) AppleWebKit/537.51.2 (KHTML, like Gecko) Version/7.0 Mobile/11D257 Safari/9537.53\"', userId='100010', Churned=0, userChurned=0, browser='Safari', platform='iPhone'),\n",
       " Row(artist='Francesca Battistelli', auth='Logged In', firstName='Darianna', gender='F', itemInSession=1, lastName='Carpenter', length=196.54485, level='free', location='Bridgeport-Stamford-Norwalk, CT', method='PUT', page='NextSong', registration=1538016340000, sessionId=31, song='Beautiful_ Beautiful (Album)', status=200, ts=1539003736000, userAgent='\"Mozilla/5.0 (iPhone; CPU iPhone OS 7_1_2 like Mac OS X) AppleWebKit/537.51.2 (KHTML, like Gecko) Version/7.0 Mobile/11D257 Safari/9537.53\"', userId='100010', Churned=0, userChurned=0, browser='Safari', platform='iPhone'),\n",
       " Row(artist='Brutha', auth='Logged In', firstName='Darianna', gender='F', itemInSession=2, lastName='Carpenter', length=263.13098, level='free', location='Bridgeport-Stamford-Norwalk, CT', method='PUT', page='NextSong', registration=1538016340000, sessionId=31, song=\"She's Gone\", status=200, ts=1539003932000, userAgent='\"Mozilla/5.0 (iPhone; CPU iPhone OS 7_1_2 like Mac OS X) AppleWebKit/537.51.2 (KHTML, like Gecko) Version/7.0 Mobile/11D257 Safari/9537.53\"', userId='100010', Churned=0, userChurned=0, browser='Safari', platform='iPhone'),\n",
       " Row(artist=None, auth='Logged In', firstName='Darianna', gender='F', itemInSession=3, lastName='Carpenter', length=None, level='free', location='Bridgeport-Stamford-Norwalk, CT', method='PUT', page='Thumbs Up', registration=1538016340000, sessionId=31, song=None, status=307, ts=1539003933000, userAgent='\"Mozilla/5.0 (iPhone; CPU iPhone OS 7_1_2 like Mac OS X) AppleWebKit/537.51.2 (KHTML, like Gecko) Version/7.0 Mobile/11D257 Safari/9537.53\"', userId='100010', Churned=0, userChurned=0, browser='Safari', platform='iPhone'),\n",
       " Row(artist='Josh Ritter', auth='Logged In', firstName='Darianna', gender='F', itemInSession=4, lastName='Carpenter', length=316.23791, level='free', location='Bridgeport-Stamford-Norwalk, CT', method='PUT', page='NextSong', registration=1538016340000, sessionId=31, song='Folk Bloodbath', status=200, ts=1539004195000, userAgent='\"Mozilla/5.0 (iPhone; CPU iPhone OS 7_1_2 like Mac OS X) AppleWebKit/537.51.2 (KHTML, like Gecko) Version/7.0 Mobile/11D257 Safari/9537.53\"', userId='100010', Churned=0, userChurned=0, browser='Safari', platform='iPhone')]"
      ]
     },
     "execution_count": 17,
     "metadata": {},
     "output_type": "execute_result"
    }
   ],
   "source": [
    "user_log.take(5)"
   ]
  },
  {
   "cell_type": "code",
   "execution_count": 18,
   "metadata": {},
   "outputs": [
    {
     "data": {
      "image/png": "[encoded data removed]",
      "text/plain": [
       "<matplotlib.figure.Figure at 0x7ff665782978>"
      ]
     },
     "metadata": {
      "needs_background": "light"
     },
     "output_type": "display_data"
    }
   ],
   "source": [
    "churned_platform_group = user_log.drop_duplicates(['userId', 'platform']).groupby(['userChurned', 'platform']).count().sort(\"userChurned\").toPandas()\n",
    "\n",
    "plt.figure()\n",
    "plt.title('Platform of users who did and did not churn')\n",
    "sb.barplot( x = 'userChurned', y = 'count', data = churned_platform_group, hue = 'platform' )\n",
    "plt.show()"
   ]
  },
  {
   "cell_type": "code",
   "execution_count": 19,
   "metadata": {},
   "outputs": [
    {
     "data": {
      "image/png": "[encoded data removed]",
      "text/plain": [
       "<matplotlib.figure.Figure at 0x7ff65b1e2e48>"
      ]
     },
     "metadata": {
      "needs_background": "light"
     },
     "output_type": "display_data"
    }
   ],
   "source": [
    "churned_platform_group = user_log.drop_duplicates(['userId', 'browser']).groupby(['userChurned', 'browser']).count().sort(\"userChurned\").toPandas()\n",
    "\n",
    "plt.figure()\n",
    "plt.title('Browser of users who did and did not churn')\n",
    "sb.barplot( x = 'userChurned', y = 'count', data = churned_platform_group, hue = 'browser' )\n",
    "plt.show()"
   ]
  },
  {
   "cell_type": "code",
   "execution_count": 20,
   "metadata": {},
   "outputs": [],
   "source": [
    "def get_state(x):\n",
    "    return x.split(', ')[1]\n",
    "\n",
    "get_state_udf = udf(get_state, StringType())\n",
    "\n",
    "def get_city(x):\n",
    "    return x.split(', ')[0]\n",
    "\n",
    "get_city_udf = udf(get_city, StringType())"
   ]
  },
  {
   "cell_type": "code",
   "execution_count": 21,
   "metadata": {},
   "outputs": [
    {
     "data": {
      "text/plain": [
       "[Row(artist='Sleeping With Sirens', auth='Logged In', firstName='Darianna', gender='F', itemInSession=0, lastName='Carpenter', length=202.97098, level='free', location='Bridgeport-Stamford-Norwalk, CT', method='PUT', page='NextSong', registration=1538016340000, sessionId=31, song='Captain Tyin Knots VS Mr Walkway (No Way)', status=200, ts=1539003534000, userAgent='\"Mozilla/5.0 (iPhone; CPU iPhone OS 7_1_2 like Mac OS X) AppleWebKit/537.51.2 (KHTML, like Gecko) Version/7.0 Mobile/11D257 Safari/9537.53\"', userId='100010', Churned=0, userChurned=0, browser='Safari', platform='iPhone', state='CT', city='Bridgeport-Stamford-Norwalk'),\n",
       " Row(artist='Francesca Battistelli', auth='Logged In', firstName='Darianna', gender='F', itemInSession=1, lastName='Carpenter', length=196.54485, level='free', location='Bridgeport-Stamford-Norwalk, CT', method='PUT', page='NextSong', registration=1538016340000, sessionId=31, song='Beautiful_ Beautiful (Album)', status=200, ts=1539003736000, userAgent='\"Mozilla/5.0 (iPhone; CPU iPhone OS 7_1_2 like Mac OS X) AppleWebKit/537.51.2 (KHTML, like Gecko) Version/7.0 Mobile/11D257 Safari/9537.53\"', userId='100010', Churned=0, userChurned=0, browser='Safari', platform='iPhone', state='CT', city='Bridgeport-Stamford-Norwalk'),\n",
       " Row(artist='Brutha', auth='Logged In', firstName='Darianna', gender='F', itemInSession=2, lastName='Carpenter', length=263.13098, level='free', location='Bridgeport-Stamford-Norwalk, CT', method='PUT', page='NextSong', registration=1538016340000, sessionId=31, song=\"She's Gone\", status=200, ts=1539003932000, userAgent='\"Mozilla/5.0 (iPhone; CPU iPhone OS 7_1_2 like Mac OS X) AppleWebKit/537.51.2 (KHTML, like Gecko) Version/7.0 Mobile/11D257 Safari/9537.53\"', userId='100010', Churned=0, userChurned=0, browser='Safari', platform='iPhone', state='CT', city='Bridgeport-Stamford-Norwalk'),\n",
       " Row(artist=None, auth='Logged In', firstName='Darianna', gender='F', itemInSession=3, lastName='Carpenter', length=None, level='free', location='Bridgeport-Stamford-Norwalk, CT', method='PUT', page='Thumbs Up', registration=1538016340000, sessionId=31, song=None, status=307, ts=1539003933000, userAgent='\"Mozilla/5.0 (iPhone; CPU iPhone OS 7_1_2 like Mac OS X) AppleWebKit/537.51.2 (KHTML, like Gecko) Version/7.0 Mobile/11D257 Safari/9537.53\"', userId='100010', Churned=0, userChurned=0, browser='Safari', platform='iPhone', state='CT', city='Bridgeport-Stamford-Norwalk'),\n",
       " Row(artist='Josh Ritter', auth='Logged In', firstName='Darianna', gender='F', itemInSession=4, lastName='Carpenter', length=316.23791, level='free', location='Bridgeport-Stamford-Norwalk, CT', method='PUT', page='NextSong', registration=1538016340000, sessionId=31, song='Folk Bloodbath', status=200, ts=1539004195000, userAgent='\"Mozilla/5.0 (iPhone; CPU iPhone OS 7_1_2 like Mac OS X) AppleWebKit/537.51.2 (KHTML, like Gecko) Version/7.0 Mobile/11D257 Safari/9537.53\"', userId='100010', Churned=0, userChurned=0, browser='Safari', platform='iPhone', state='CT', city='Bridgeport-Stamford-Norwalk')]"
      ]
     },
     "execution_count": 21,
     "metadata": {},
     "output_type": "execute_result"
    }
   ],
   "source": [
    "user_log = user_log.withColumn( 'state', get_state_udf(user_log.location) )\n",
    "user_log = user_log.withColumn( 'city', get_city_udf(user_log.location) )\n",
    "user_log.take(5)"
   ]
  },
  {
   "cell_type": "code",
   "execution_count": 22,
   "metadata": {},
   "outputs": [
    {
     "data": {
      "image/png": "[encoded data removed]",
      "text/plain": [
       "<matplotlib.figure.Figure at 0x7ff6655a6390>"
      ]
     },
     "metadata": {},
     "output_type": "display_data"
    }
   ],
   "source": [
    "churned_state_group = user_log.drop_duplicates(['userId', 'state']).groupby(['userChurned', 'state']).count().sort(\"userChurned\").toPandas()\n",
    "\n",
    "plt.figure(num=None, figsize=(12, 6), dpi=80, facecolor='w', edgecolor='k')\n",
    "plt.title('State of users who did and did not churn')\n",
    "sb.barplot( x = 'state', y = 'count', data = churned_state_group, hue = 'userChurned' )\n",
    "plt.xticks(rotation=65, horizontalalignment='right')\n",
    "plt.show()"
   ]
  },
  {
   "cell_type": "code",
   "execution_count": 23,
   "metadata": {},
   "outputs": [
    {
     "data": {
      "text/plain": [
       "[Row(artist='Sleeping With Sirens', auth='Logged In', firstName='Darianna', gender='F', itemInSession=0, lastName='Carpenter', length=202.97098, level='free', location='Bridgeport-Stamford-Norwalk, CT', method='PUT', page='NextSong', registration=1538016340000, sessionId=31, song='Captain Tyin Knots VS Mr Walkway (No Way)', status=200, ts=1539003534000, userAgent='\"Mozilla/5.0 (iPhone; CPU iPhone OS 7_1_2 like Mac OS X) AppleWebKit/537.51.2 (KHTML, like Gecko) Version/7.0 Mobile/11D257 Safari/9537.53\"', userId='100010', Churned=0, userChurned=0, browser='Safari', platform='iPhone', state='CT', city='Bridgeport-Stamford-Norwalk', uniqueDay='17812'),\n",
       " Row(artist='Francesca Battistelli', auth='Logged In', firstName='Darianna', gender='F', itemInSession=1, lastName='Carpenter', length=196.54485, level='free', location='Bridgeport-Stamford-Norwalk, CT', method='PUT', page='NextSong', registration=1538016340000, sessionId=31, song='Beautiful_ Beautiful (Album)', status=200, ts=1539003736000, userAgent='\"Mozilla/5.0 (iPhone; CPU iPhone OS 7_1_2 like Mac OS X) AppleWebKit/537.51.2 (KHTML, like Gecko) Version/7.0 Mobile/11D257 Safari/9537.53\"', userId='100010', Churned=0, userChurned=0, browser='Safari', platform='iPhone', state='CT', city='Bridgeport-Stamford-Norwalk', uniqueDay='17812'),\n",
       " Row(artist='Brutha', auth='Logged In', firstName='Darianna', gender='F', itemInSession=2, lastName='Carpenter', length=263.13098, level='free', location='Bridgeport-Stamford-Norwalk, CT', method='PUT', page='NextSong', registration=1538016340000, sessionId=31, song=\"She's Gone\", status=200, ts=1539003932000, userAgent='\"Mozilla/5.0 (iPhone; CPU iPhone OS 7_1_2 like Mac OS X) AppleWebKit/537.51.2 (KHTML, like Gecko) Version/7.0 Mobile/11D257 Safari/9537.53\"', userId='100010', Churned=0, userChurned=0, browser='Safari', platform='iPhone', state='CT', city='Bridgeport-Stamford-Norwalk', uniqueDay='17812'),\n",
       " Row(artist=None, auth='Logged In', firstName='Darianna', gender='F', itemInSession=3, lastName='Carpenter', length=None, level='free', location='Bridgeport-Stamford-Norwalk, CT', method='PUT', page='Thumbs Up', registration=1538016340000, sessionId=31, song=None, status=307, ts=1539003933000, userAgent='\"Mozilla/5.0 (iPhone; CPU iPhone OS 7_1_2 like Mac OS X) AppleWebKit/537.51.2 (KHTML, like Gecko) Version/7.0 Mobile/11D257 Safari/9537.53\"', userId='100010', Churned=0, userChurned=0, browser='Safari', platform='iPhone', state='CT', city='Bridgeport-Stamford-Norwalk', uniqueDay='17812'),\n",
       " Row(artist='Josh Ritter', auth='Logged In', firstName='Darianna', gender='F', itemInSession=4, lastName='Carpenter', length=316.23791, level='free', location='Bridgeport-Stamford-Norwalk, CT', method='PUT', page='NextSong', registration=1538016340000, sessionId=31, song='Folk Bloodbath', status=200, ts=1539004195000, userAgent='\"Mozilla/5.0 (iPhone; CPU iPhone OS 7_1_2 like Mac OS X) AppleWebKit/537.51.2 (KHTML, like Gecko) Version/7.0 Mobile/11D257 Safari/9537.53\"', userId='100010', Churned=0, userChurned=0, browser='Safari', platform='iPhone', state='CT', city='Bridgeport-Stamford-Norwalk', uniqueDay='17812')]"
      ]
     },
     "execution_count": 23,
     "metadata": {},
     "output_type": "execute_result"
    }
   ],
   "source": [
    "get_hour = udf(lambda x: math.floor( (x / 1000.0) / (60*60*24) ) )\n",
    "user_log = user_log.withColumn(\"uniqueDay\", get_hour(user_log.ts))\n",
    "user_log.take(5)"
   ]
  },
  {
   "cell_type": "code",
   "execution_count": 24,
   "metadata": {},
   "outputs": [
    {
     "data": {
      "text/plain": [
       "[Row(userId='100010', uniqueDay='17840', artist='Ron Carter', auth='Logged In', firstName='Darianna', gender='F', itemInSession=0, lastName='Carpenter', length=497.13587, level='free', location='Bridgeport-Stamford-Norwalk, CT', method='PUT', page='NextSong', registration=1538016340000, sessionId=133, song=\"I CAN'T GET STARTED\", status=200, ts=1541411290000, userAgent='\"Mozilla/5.0 (iPhone; CPU iPhone OS 7_1_2 like Mac OS X) AppleWebKit/537.51.2 (KHTML, like Gecko) Version/7.0 Mobile/11D257 Safari/9537.53\"', Churned=0, userChurned=0, browser='Safari', platform='iPhone', state='CT', city='Bridgeport-Stamford-Norwalk', totalDailySessions=72, avgDailySessions=54.42857142857143),\n",
       " Row(userId='100010', uniqueDay='17840', artist='Limi-T 21', auth='Logged In', firstName='Darianna', gender='F', itemInSession=1, lastName='Carpenter', length=254.79791, level='free', location='Bridgeport-Stamford-Norwalk, CT', method='PUT', page='NextSong', registration=1538016340000, sessionId=133, song='Si Supieras', status=200, ts=1541411787000, userAgent='\"Mozilla/5.0 (iPhone; CPU iPhone OS 7_1_2 like Mac OS X) AppleWebKit/537.51.2 (KHTML, like Gecko) Version/7.0 Mobile/11D257 Safari/9537.53\"', Churned=0, userChurned=0, browser='Safari', platform='iPhone', state='CT', city='Bridgeport-Stamford-Norwalk', totalDailySessions=72, avgDailySessions=54.42857142857143),\n",
       " Row(userId='100010', uniqueDay='17840', artist='Black Cobra', auth='Logged In', firstName='Darianna', gender='F', itemInSession=2, lastName='Carpenter', length=214.62159, level='free', location='Bridgeport-Stamford-Norwalk, CT', method='PUT', page='NextSong', registration=1538016340000, sessionId=133, song='Chronosphere', status=200, ts=1541412041000, userAgent='\"Mozilla/5.0 (iPhone; CPU iPhone OS 7_1_2 like Mac OS X) AppleWebKit/537.51.2 (KHTML, like Gecko) Version/7.0 Mobile/11D257 Safari/9537.53\"', Churned=0, userChurned=0, browser='Safari', platform='iPhone', state='CT', city='Bridgeport-Stamford-Norwalk', totalDailySessions=72, avgDailySessions=54.42857142857143),\n",
       " Row(userId='100010', uniqueDay='17840', artist='Nevermore', auth='Logged In', firstName='Darianna', gender='F', itemInSession=3, lastName='Carpenter', length=320.57424, level='free', location='Bridgeport-Stamford-Norwalk, CT', method='PUT', page='NextSong', registration=1538016340000, sessionId=133, song='Matricide', status=200, ts=1541412255000, userAgent='\"Mozilla/5.0 (iPhone; CPU iPhone OS 7_1_2 like Mac OS X) AppleWebKit/537.51.2 (KHTML, like Gecko) Version/7.0 Mobile/11D257 Safari/9537.53\"', Churned=0, userChurned=0, browser='Safari', platform='iPhone', state='CT', city='Bridgeport-Stamford-Norwalk', totalDailySessions=72, avgDailySessions=54.42857142857143),\n",
       " Row(userId='100010', uniqueDay='17840', artist=None, auth='Logged In', firstName='Darianna', gender='F', itemInSession=4, lastName='Carpenter', length=None, level='free', location='Bridgeport-Stamford-Norwalk, CT', method='PUT', page='Thumbs Down', registration=1538016340000, sessionId=133, song=None, status=307, ts=1541412256000, userAgent='\"Mozilla/5.0 (iPhone; CPU iPhone OS 7_1_2 like Mac OS X) AppleWebKit/537.51.2 (KHTML, like Gecko) Version/7.0 Mobile/11D257 Safari/9537.53\"', Churned=0, userChurned=0, browser='Safari', platform='iPhone', state='CT', city='Bridgeport-Stamford-Norwalk', totalDailySessions=72, avgDailySessions=54.42857142857143)]"
      ]
     },
     "execution_count": 24,
     "metadata": {},
     "output_type": "execute_result"
    }
   ],
   "source": [
    "total_daily_sessions_df = user_log.select('userId', 'sessionId', 'uniqueDay').groupby(['userId', 'uniqueDay']).agg(count('sessionId').alias('totalDailySessions')).sort('userId')\n",
    "avg_daily_sessions_df = total_daily_sessions_df.groupBy('userId').avg('totalDailySessions').withColumnRenamed('avg(totalDailySessions)', 'avgDailySessions')\n",
    "\n",
    "user_log = user_log.join(total_daily_sessions_df, on=['userId', 'uniqueDay'])\n",
    "user_log = user_log.join(avg_daily_sessions_df, on='userId')\n",
    "\n",
    "user_log.take(5)\n"
   ]
  },
  {
   "cell_type": "code",
   "execution_count": 25,
   "metadata": {},
   "outputs": [
    {
     "data": {
      "text/html": [
       "<div>\n",
       "<style scoped>\n",
       "    .dataframe tbody tr th:only-of-type {\n",
       "        vertical-align: middle;\n",
       "    }\n",
       "\n",
       "    .dataframe tbody tr th {\n",
       "        vertical-align: top;\n",
       "    }\n",
       "\n",
       "    .dataframe thead th {\n",
       "        text-align: right;\n",
       "    }\n",
       "</style>\n",
       "<table border=\"1\" class=\"dataframe\">\n",
       "  <thead>\n",
       "    <tr style=\"text-align: right;\">\n",
       "      <th></th>\n",
       "      <th>userId</th>\n",
       "      <th>avgDailySessions</th>\n",
       "      <th>userChurned</th>\n",
       "    </tr>\n",
       "  </thead>\n",
       "  <tbody>\n",
       "    <tr>\n",
       "      <th>0</th>\n",
       "      <td>100010</td>\n",
       "      <td>54.428571</td>\n",
       "      <td>0</td>\n",
       "    </tr>\n",
       "    <tr>\n",
       "      <th>1</th>\n",
       "      <td>200002</td>\n",
       "      <td>67.714286</td>\n",
       "      <td>0</td>\n",
       "    </tr>\n",
       "    <tr>\n",
       "      <th>2</th>\n",
       "      <td>124</td>\n",
       "      <td>146.212121</td>\n",
       "      <td>0</td>\n",
       "    </tr>\n",
       "    <tr>\n",
       "      <th>3</th>\n",
       "      <td>7</td>\n",
       "      <td>25.125000</td>\n",
       "      <td>0</td>\n",
       "    </tr>\n",
       "    <tr>\n",
       "      <th>4</th>\n",
       "      <td>15</td>\n",
       "      <td>119.894737</td>\n",
       "      <td>0</td>\n",
       "    </tr>\n",
       "    <tr>\n",
       "      <th>5</th>\n",
       "      <td>155</td>\n",
       "      <td>125.250000</td>\n",
       "      <td>0</td>\n",
       "    </tr>\n",
       "    <tr>\n",
       "      <th>6</th>\n",
       "      <td>132</td>\n",
       "      <td>109.714286</td>\n",
       "      <td>0</td>\n",
       "    </tr>\n",
       "    <tr>\n",
       "      <th>7</th>\n",
       "      <td>154</td>\n",
       "      <td>39.333333</td>\n",
       "      <td>0</td>\n",
       "    </tr>\n",
       "    <tr>\n",
       "      <th>8</th>\n",
       "      <td>11</td>\n",
       "      <td>53.000000</td>\n",
       "      <td>0</td>\n",
       "    </tr>\n",
       "    <tr>\n",
       "      <th>9</th>\n",
       "      <td>138</td>\n",
       "      <td>145.235294</td>\n",
       "      <td>0</td>\n",
       "    </tr>\n",
       "    <tr>\n",
       "      <th>10</th>\n",
       "      <td>300017</td>\n",
       "      <td>88.560000</td>\n",
       "      <td>0</td>\n",
       "    </tr>\n",
       "    <tr>\n",
       "      <th>11</th>\n",
       "      <td>69</td>\n",
       "      <td>111.833333</td>\n",
       "      <td>0</td>\n",
       "    </tr>\n",
       "    <tr>\n",
       "      <th>12</th>\n",
       "      <td>112</td>\n",
       "      <td>36.500000</td>\n",
       "      <td>0</td>\n",
       "    </tr>\n",
       "    <tr>\n",
       "      <th>13</th>\n",
       "      <td>42</td>\n",
       "      <td>96.750000</td>\n",
       "      <td>0</td>\n",
       "    </tr>\n",
       "    <tr>\n",
       "      <th>14</th>\n",
       "      <td>200010</td>\n",
       "      <td>63.400000</td>\n",
       "      <td>0</td>\n",
       "    </tr>\n",
       "    <tr>\n",
       "      <th>15</th>\n",
       "      <td>64</td>\n",
       "      <td>22.666667</td>\n",
       "      <td>0</td>\n",
       "    </tr>\n",
       "    <tr>\n",
       "      <th>16</th>\n",
       "      <td>113</td>\n",
       "      <td>78.958333</td>\n",
       "      <td>0</td>\n",
       "    </tr>\n",
       "    <tr>\n",
       "      <th>17</th>\n",
       "      <td>30</td>\n",
       "      <td>68.269231</td>\n",
       "      <td>0</td>\n",
       "    </tr>\n",
       "    <tr>\n",
       "      <th>18</th>\n",
       "      <td>34</td>\n",
       "      <td>18.250000</td>\n",
       "      <td>0</td>\n",
       "    </tr>\n",
       "    <tr>\n",
       "      <th>19</th>\n",
       "      <td>133</td>\n",
       "      <td>44.000000</td>\n",
       "      <td>0</td>\n",
       "    </tr>\n",
       "    <tr>\n",
       "      <th>20</th>\n",
       "      <td>59</td>\n",
       "      <td>109.000000</td>\n",
       "      <td>0</td>\n",
       "    </tr>\n",
       "    <tr>\n",
       "      <th>21</th>\n",
       "      <td>139</td>\n",
       "      <td>91.400000</td>\n",
       "      <td>0</td>\n",
       "    </tr>\n",
       "    <tr>\n",
       "      <th>22</th>\n",
       "      <td>146</td>\n",
       "      <td>49.235294</td>\n",
       "      <td>0</td>\n",
       "    </tr>\n",
       "    <tr>\n",
       "      <th>23</th>\n",
       "      <td>8</td>\n",
       "      <td>47.714286</td>\n",
       "      <td>0</td>\n",
       "    </tr>\n",
       "    <tr>\n",
       "      <th>24</th>\n",
       "      <td>22</td>\n",
       "      <td>20.000000</td>\n",
       "      <td>0</td>\n",
       "    </tr>\n",
       "    <tr>\n",
       "      <th>25</th>\n",
       "      <td>300018</td>\n",
       "      <td>75.777778</td>\n",
       "      <td>0</td>\n",
       "    </tr>\n",
       "    <tr>\n",
       "      <th>26</th>\n",
       "      <td>300012</td>\n",
       "      <td>112.285714</td>\n",
       "      <td>0</td>\n",
       "    </tr>\n",
       "    <tr>\n",
       "      <th>27</th>\n",
       "      <td>85</td>\n",
       "      <td>112.051282</td>\n",
       "      <td>0</td>\n",
       "    </tr>\n",
       "    <tr>\n",
       "      <th>28</th>\n",
       "      <td>16</td>\n",
       "      <td>74.454545</td>\n",
       "      <td>0</td>\n",
       "    </tr>\n",
       "    <tr>\n",
       "      <th>29</th>\n",
       "      <td>35</td>\n",
       "      <td>58.970588</td>\n",
       "      <td>0</td>\n",
       "    </tr>\n",
       "    <tr>\n",
       "      <th>...</th>\n",
       "      <td>...</td>\n",
       "      <td>...</td>\n",
       "      <td>...</td>\n",
       "    </tr>\n",
       "    <tr>\n",
       "      <th>195</th>\n",
       "      <td>100015</td>\n",
       "      <td>70.000000</td>\n",
       "      <td>1</td>\n",
       "    </tr>\n",
       "    <tr>\n",
       "      <th>196</th>\n",
       "      <td>200024</td>\n",
       "      <td>50.181818</td>\n",
       "      <td>1</td>\n",
       "    </tr>\n",
       "    <tr>\n",
       "      <th>197</th>\n",
       "      <td>100003</td>\n",
       "      <td>39.000000</td>\n",
       "      <td>1</td>\n",
       "    </tr>\n",
       "    <tr>\n",
       "      <th>198</th>\n",
       "      <td>103</td>\n",
       "      <td>119.090909</td>\n",
       "      <td>1</td>\n",
       "    </tr>\n",
       "    <tr>\n",
       "      <th>199</th>\n",
       "      <td>100024</td>\n",
       "      <td>36.000000</td>\n",
       "      <td>1</td>\n",
       "    </tr>\n",
       "    <tr>\n",
       "      <th>200</th>\n",
       "      <td>53</td>\n",
       "      <td>82.560000</td>\n",
       "      <td>1</td>\n",
       "    </tr>\n",
       "    <tr>\n",
       "      <th>201</th>\n",
       "      <td>122</td>\n",
       "      <td>15.500000</td>\n",
       "      <td>1</td>\n",
       "    </tr>\n",
       "    <tr>\n",
       "      <th>202</th>\n",
       "      <td>200017</td>\n",
       "      <td>47.692308</td>\n",
       "      <td>1</td>\n",
       "    </tr>\n",
       "    <tr>\n",
       "      <th>203</th>\n",
       "      <td>58</td>\n",
       "      <td>144.785714</td>\n",
       "      <td>1</td>\n",
       "    </tr>\n",
       "    <tr>\n",
       "      <th>204</th>\n",
       "      <td>100011</td>\n",
       "      <td>23.000000</td>\n",
       "      <td>1</td>\n",
       "    </tr>\n",
       "    <tr>\n",
       "      <th>205</th>\n",
       "      <td>100019</td>\n",
       "      <td>44.500000</td>\n",
       "      <td>1</td>\n",
       "    </tr>\n",
       "    <tr>\n",
       "      <th>206</th>\n",
       "      <td>100012</td>\n",
       "      <td>85.714286</td>\n",
       "      <td>1</td>\n",
       "    </tr>\n",
       "    <tr>\n",
       "      <th>207</th>\n",
       "      <td>200018</td>\n",
       "      <td>59.750000</td>\n",
       "      <td>1</td>\n",
       "    </tr>\n",
       "    <tr>\n",
       "      <th>208</th>\n",
       "      <td>200016</td>\n",
       "      <td>38.285714</td>\n",
       "      <td>1</td>\n",
       "    </tr>\n",
       "    <tr>\n",
       "      <th>209</th>\n",
       "      <td>200020</td>\n",
       "      <td>55.481481</td>\n",
       "      <td>1</td>\n",
       "    </tr>\n",
       "    <tr>\n",
       "      <th>210</th>\n",
       "      <td>106</td>\n",
       "      <td>91.818182</td>\n",
       "      <td>1</td>\n",
       "    </tr>\n",
       "    <tr>\n",
       "      <th>211</th>\n",
       "      <td>143</td>\n",
       "      <td>29.800000</td>\n",
       "      <td>1</td>\n",
       "    </tr>\n",
       "    <tr>\n",
       "      <th>212</th>\n",
       "      <td>32</td>\n",
       "      <td>36.000000</td>\n",
       "      <td>1</td>\n",
       "    </tr>\n",
       "    <tr>\n",
       "      <th>213</th>\n",
       "      <td>200001</td>\n",
       "      <td>26.333333</td>\n",
       "      <td>1</td>\n",
       "    </tr>\n",
       "    <tr>\n",
       "      <th>214</th>\n",
       "      <td>105</td>\n",
       "      <td>183.600000</td>\n",
       "      <td>1</td>\n",
       "    </tr>\n",
       "    <tr>\n",
       "      <th>215</th>\n",
       "      <td>200011</td>\n",
       "      <td>77.090909</td>\n",
       "      <td>1</td>\n",
       "    </tr>\n",
       "    <tr>\n",
       "      <th>216</th>\n",
       "      <td>100023</td>\n",
       "      <td>54.888889</td>\n",
       "      <td>1</td>\n",
       "    </tr>\n",
       "    <tr>\n",
       "      <th>217</th>\n",
       "      <td>100013</td>\n",
       "      <td>92.800000</td>\n",
       "      <td>1</td>\n",
       "    </tr>\n",
       "    <tr>\n",
       "      <th>218</th>\n",
       "      <td>100017</td>\n",
       "      <td>75.000000</td>\n",
       "      <td>1</td>\n",
       "    </tr>\n",
       "    <tr>\n",
       "      <th>219</th>\n",
       "      <td>121</td>\n",
       "      <td>83.272727</td>\n",
       "      <td>1</td>\n",
       "    </tr>\n",
       "    <tr>\n",
       "      <th>220</th>\n",
       "      <td>12</td>\n",
       "      <td>106.400000</td>\n",
       "      <td>1</td>\n",
       "    </tr>\n",
       "    <tr>\n",
       "      <th>221</th>\n",
       "      <td>200015</td>\n",
       "      <td>34.900000</td>\n",
       "      <td>1</td>\n",
       "    </tr>\n",
       "    <tr>\n",
       "      <th>222</th>\n",
       "      <td>129</td>\n",
       "      <td>58.857143</td>\n",
       "      <td>1</td>\n",
       "    </tr>\n",
       "    <tr>\n",
       "      <th>223</th>\n",
       "      <td>200021</td>\n",
       "      <td>83.444444</td>\n",
       "      <td>1</td>\n",
       "    </tr>\n",
       "    <tr>\n",
       "      <th>224</th>\n",
       "      <td>100001</td>\n",
       "      <td>93.500000</td>\n",
       "      <td>1</td>\n",
       "    </tr>\n",
       "  </tbody>\n",
       "</table>\n",
       "<p>225 rows × 3 columns</p>\n",
       "</div>"
      ],
      "text/plain": [
       "     userId  avgDailySessions  userChurned\n",
       "0    100010         54.428571            0\n",
       "1    200002         67.714286            0\n",
       "2       124        146.212121            0\n",
       "3         7         25.125000            0\n",
       "4        15        119.894737            0\n",
       "5       155        125.250000            0\n",
       "6       132        109.714286            0\n",
       "7       154         39.333333            0\n",
       "8        11         53.000000            0\n",
       "9       138        145.235294            0\n",
       "10   300017         88.560000            0\n",
       "11       69        111.833333            0\n",
       "12      112         36.500000            0\n",
       "13       42         96.750000            0\n",
       "14   200010         63.400000            0\n",
       "15       64         22.666667            0\n",
       "16      113         78.958333            0\n",
       "17       30         68.269231            0\n",
       "18       34         18.250000            0\n",
       "19      133         44.000000            0\n",
       "20       59        109.000000            0\n",
       "21      139         91.400000            0\n",
       "22      146         49.235294            0\n",
       "23        8         47.714286            0\n",
       "24       22         20.000000            0\n",
       "25   300018         75.777778            0\n",
       "26   300012        112.285714            0\n",
       "27       85        112.051282            0\n",
       "28       16         74.454545            0\n",
       "29       35         58.970588            0\n",
       "..      ...               ...          ...\n",
       "195  100015         70.000000            1\n",
       "196  200024         50.181818            1\n",
       "197  100003         39.000000            1\n",
       "198     103        119.090909            1\n",
       "199  100024         36.000000            1\n",
       "200      53         82.560000            1\n",
       "201     122         15.500000            1\n",
       "202  200017         47.692308            1\n",
       "203      58        144.785714            1\n",
       "204  100011         23.000000            1\n",
       "205  100019         44.500000            1\n",
       "206  100012         85.714286            1\n",
       "207  200018         59.750000            1\n",
       "208  200016         38.285714            1\n",
       "209  200020         55.481481            1\n",
       "210     106         91.818182            1\n",
       "211     143         29.800000            1\n",
       "212      32         36.000000            1\n",
       "213  200001         26.333333            1\n",
       "214     105        183.600000            1\n",
       "215  200011         77.090909            1\n",
       "216  100023         54.888889            1\n",
       "217  100013         92.800000            1\n",
       "218  100017         75.000000            1\n",
       "219     121         83.272727            1\n",
       "220      12        106.400000            1\n",
       "221  200015         34.900000            1\n",
       "222     129         58.857143            1\n",
       "223  200021         83.444444            1\n",
       "224  100001         93.500000            1\n",
       "\n",
       "[225 rows x 3 columns]"
      ]
     },
     "execution_count": 25,
     "metadata": {},
     "output_type": "execute_result"
    }
   ],
   "source": [
    "avg_daily_session_pd = user_log.select(['userId','avgDailySessions','userChurned']).drop_duplicates(['userId']).sort(\"userChurned\").toPandas()\n",
    "\n",
    "avg_daily_session_pd\n",
    "\n",
    "\n"
   ]
  },
  {
   "cell_type": "code",
   "execution_count": 26,
   "metadata": {},
   "outputs": [
    {
     "data": {
      "image/png": "[encoded data removed]",
      "text/plain": [
       "<matplotlib.figure.Figure at 0x7ff66570de80>"
      ]
     },
     "metadata": {
      "needs_background": "light"
     },
     "output_type": "display_data"
    }
   ],
   "source": [
    "plt.figure()\n",
    "sb.boxplot(y=\"avgDailySessions\", x=\"userChurned\", data=avg_daily_session_pd)\n",
    "plt.title('Average daily sessions between users who did or did not churn')\n",
    "plt.show()\n",
    "\n"
   ]
  },
  {
   "cell_type": "code",
   "execution_count": 27,
   "metadata": {},
   "outputs": [
    {
     "name": "stdout",
     "output_type": "stream",
     "text": [
      "+--------------------+\n",
      "|                page|\n",
      "+--------------------+\n",
      "|               About|\n",
      "|          Add Friend|\n",
      "|     Add to Playlist|\n",
      "|              Cancel|\n",
      "|Cancellation Conf...|\n",
      "|           Downgrade|\n",
      "|               Error|\n",
      "|                Help|\n",
      "|                Home|\n",
      "|              Logout|\n",
      "|            NextSong|\n",
      "|         Roll Advert|\n",
      "|       Save Settings|\n",
      "|            Settings|\n",
      "|    Submit Downgrade|\n",
      "|      Submit Upgrade|\n",
      "|         Thumbs Down|\n",
      "|           Thumbs Up|\n",
      "|             Upgrade|\n",
      "+--------------------+\n",
      "\n",
      "None\n"
     ]
    }
   ],
   "source": [
    "print(user_log.select(['page']).dropDuplicates().sort('page').show())"
   ]
  },
  {
   "cell_type": "code",
   "execution_count": 28,
   "metadata": {},
   "outputs": [
    {
     "name": "stdout",
     "output_type": "stream",
     "text": [
      "[Row(userId='100010', uniqueDay='17840', artist='Ron Carter', auth='Logged In', firstName='Darianna', gender='F', itemInSession=0, lastName='Carpenter', length=497.13587, level='free', location='Bridgeport-Stamford-Norwalk, CT', method='PUT', page='NextSong', registration=1538016340000, sessionId=133, song=\"I CAN'T GET STARTED\", status=200, ts=1541411290000, userAgent='\"Mozilla/5.0 (iPhone; CPU iPhone OS 7_1_2 like Mac OS X) AppleWebKit/537.51.2 (KHTML, like Gecko) Version/7.0 Mobile/11D257 Safari/9537.53\"', Churned=0, userChurned=0, browser='Safari', platform='iPhone', state='CT', city='Bridgeport-Stamford-Norwalk', totalDailySessions=72, avgDailySessions=54.42857142857143, totalDailyThumbsUp=4, avgDailyThumbsUp=2.4285714285714284), Row(userId='100010', uniqueDay='17840', artist='Limi-T 21', auth='Logged In', firstName='Darianna', gender='F', itemInSession=1, lastName='Carpenter', length=254.79791, level='free', location='Bridgeport-Stamford-Norwalk, CT', method='PUT', page='NextSong', registration=1538016340000, sessionId=133, song='Si Supieras', status=200, ts=1541411787000, userAgent='\"Mozilla/5.0 (iPhone; CPU iPhone OS 7_1_2 like Mac OS X) AppleWebKit/537.51.2 (KHTML, like Gecko) Version/7.0 Mobile/11D257 Safari/9537.53\"', Churned=0, userChurned=0, browser='Safari', platform='iPhone', state='CT', city='Bridgeport-Stamford-Norwalk', totalDailySessions=72, avgDailySessions=54.42857142857143, totalDailyThumbsUp=4, avgDailyThumbsUp=2.4285714285714284), Row(userId='100010', uniqueDay='17840', artist='Black Cobra', auth='Logged In', firstName='Darianna', gender='F', itemInSession=2, lastName='Carpenter', length=214.62159, level='free', location='Bridgeport-Stamford-Norwalk, CT', method='PUT', page='NextSong', registration=1538016340000, sessionId=133, song='Chronosphere', status=200, ts=1541412041000, userAgent='\"Mozilla/5.0 (iPhone; CPU iPhone OS 7_1_2 like Mac OS X) AppleWebKit/537.51.2 (KHTML, like Gecko) Version/7.0 Mobile/11D257 Safari/9537.53\"', Churned=0, userChurned=0, browser='Safari', platform='iPhone', state='CT', city='Bridgeport-Stamford-Norwalk', totalDailySessions=72, avgDailySessions=54.42857142857143, totalDailyThumbsUp=4, avgDailyThumbsUp=2.4285714285714284)]\n"
     ]
    }
   ],
   "source": [
    "# There is an issue with running joins with dataframes that were created from a clone\n",
    "# The issue was revolving around the 'uniqueDay' column, so I renamed it with the same name\n",
    "# https://stackoverflow.com/questions/45713290/how-to-resolve-the-analysisexception-resolved-attributes-in-spark\n",
    "total_daily_thumbs_up_df = user_log.select('userId', 'page', col('uniqueDay').alias('uniqueDay')).groupby(['userId', 'uniqueDay']).agg(count(when(col(\"page\") == 'Thumbs Up', 1)).alias('totalDailyThumbsUp')).sort('userId')\n",
    "avg_daily_thumbs_up_df = total_daily_thumbs_up_df.groupBy('userId').avg('totalDailyThumbsUp').withColumnRenamed('avg(totalDailyThumbsUp)', 'avgDailyThumbsUp')\n",
    "\n",
    "user_log = user_log.join(total_daily_thumbs_up_df, on=['userId', 'uniqueDay'])\n",
    "user_log = user_log.join(avg_daily_thumbs_up_df, on='userId')\n",
    "\n",
    "\n",
    "\n",
    "\n",
    "avg_daily_thumbs_up_pd = user_log.select(['userId','avgDailyThumbsUp','userChurned']).drop_duplicates(['userId']).sort(\"userChurned\").toPandas()\n",
    "\n",
    "\n",
    "print(user_log.take(3))\n",
    "\n"
   ]
  },
  {
   "cell_type": "code",
   "execution_count": 29,
   "metadata": {},
   "outputs": [
    {
     "data": {
      "image/png": "[encoded data removed]",
      "text/plain": [
       "<matplotlib.figure.Figure at 0x7ff664b19438>"
      ]
     },
     "metadata": {
      "needs_background": "light"
     },
     "output_type": "display_data"
    }
   ],
   "source": [
    "plt.figure()\n",
    "sb.boxplot(y=\"avgDailyThumbsUp\", x=\"userChurned\", data=avg_daily_thumbs_up_pd)\n",
    "plt.title('Average daily thumbs up between users who did or did not churn')\n",
    "plt.show()"
   ]
  },
  {
   "cell_type": "code",
   "execution_count": 30,
   "metadata": {},
   "outputs": [
    {
     "data": {
      "image/png": "[encoded data removed]",
      "text/plain": [
       "<matplotlib.figure.Figure at 0x7ff6649df4a8>"
      ]
     },
     "metadata": {
      "needs_background": "light"
     },
     "output_type": "display_data"
    }
   ],
   "source": [
    "total_daily_thumbs_down_df = user_log.select('userId', 'page', col('uniqueDay').alias('uniqueDay')).groupby(['userId', 'uniqueDay']).agg(count(when(col(\"page\") == 'Thumbs Down', 1)).alias('totalDailyThumbsDown')).sort('userId')\n",
    "avg_daily_thumbs_down_df = total_daily_thumbs_down_df.groupBy('userId').avg('totalDailyThumbsDown').withColumnRenamed('avg(totalDailyThumbsDown)', 'avgDailyThumbsDown')\n",
    "\n",
    "user_log = user_log.join(total_daily_thumbs_down_df, on=['userId', 'uniqueDay'])\n",
    "user_log = user_log.join(avg_daily_thumbs_down_df, on='userId')\n",
    "\n",
    "\n",
    "\n",
    "\n",
    "avg_daily_thumbs_down_pd = user_log.select(['userId','avgDailyThumbsDown','userChurned']).drop_duplicates(['userId']).sort(\"userChurned\").toPandas()\n",
    "\n",
    "\n",
    "\n",
    "\n",
    "plt.figure()\n",
    "sb.boxplot(y=\"avgDailyThumbsDown\", x=\"userChurned\", data=avg_daily_thumbs_down_pd)\n",
    "plt.title('Average daily thumbs down between users who did or did not churn')\n",
    "plt.show()\n",
    "\n"
   ]
  },
  {
   "cell_type": "code",
   "execution_count": 31,
   "metadata": {},
   "outputs": [],
   "source": [
    "total_daily_errors_df = user_log.select('userId', 'page', col('uniqueDay').alias('uniqueDay')).groupby(['userId', 'uniqueDay']).agg(count(when(col(\"page\") == 'Error', 1)).alias('totalDailyErrors')).sort('userId')\n",
    "user_log = user_log.join(total_daily_errors_df, on=['userId', 'uniqueDay'])\n",
    "\n",
    "total_daily_advertisements_df = user_log.select('userId', 'page', col('uniqueDay').alias('uniqueDay')).groupby(['userId', 'uniqueDay']).agg(count(when(col(\"page\") == 'Roll Advert', 1)).alias('totalDailyAdvertisements')).sort('userId')\n",
    "user_log = user_log.join(total_daily_advertisements_df, on=['userId', 'uniqueDay'])\n",
    "\n",
    "total_daily_next_songs_df = user_log.select('userId', 'page', col('uniqueDay').alias('uniqueDay')).groupby(['userId', 'uniqueDay']).agg(count(when(col(\"page\") == 'NextSong', 1)).alias('totalDailyNextSong')).sort('userId')\n",
    "user_log = user_log.join(total_daily_next_songs_df, on=['userId', 'uniqueDay'])\n"
   ]
  },
  {
   "cell_type": "code",
   "execution_count": 32,
   "metadata": {},
   "outputs": [
    {
     "data": {
      "text/plain": [
       "[Row(userId='100019', uniqueDay='17811', artist=None, auth='Logged In', firstName='Angel', gender='M', itemInSession=3, lastName='Jacobs', length=None, level='free', location='Spokane-Spokane Valley, WA', method='GET', page='Home', registration=1536257455000, sessionId=71, song=None, status=200, ts=1538942626000, userAgent='Mozilla/5.0 (X11; Ubuntu; Linux x86_64; rv:31.0) Gecko/20100101 Firefox/31.0', Churned=0, userChurned=1, browser='Firefox', platform='Linux', state='WA', city='Spokane-Spokane Valley', totalDailySessions=61, avgDailySessions=44.5, totalDailyThumbsUp=1, avgDailyThumbsUp=0.5, totalDailyThumbsDown=0, avgDailyThumbsDown=0.5, totalDailyErrors=0, totalDailyAdvertisements=10, totalDailyNextSong=43),\n",
       " Row(userId='100019', uniqueDay='17811', artist='I-Wayne', auth='Logged In', firstName='Angel', gender='M', itemInSession=4, lastName='Jacobs', length=246.282, level='free', location='Spokane-Spokane Valley, WA', method='PUT', page='NextSong', registration=1536257455000, sessionId=71, song='Lave Ground', status=200, ts=1538942652000, userAgent='Mozilla/5.0 (X11; Ubuntu; Linux x86_64; rv:31.0) Gecko/20100101 Firefox/31.0', Churned=0, userChurned=1, browser='Firefox', platform='Linux', state='WA', city='Spokane-Spokane Valley', totalDailySessions=61, avgDailySessions=44.5, totalDailyThumbsUp=1, avgDailyThumbsUp=0.5, totalDailyThumbsDown=0, avgDailyThumbsDown=0.5, totalDailyErrors=0, totalDailyAdvertisements=10, totalDailyNextSong=43),\n",
       " Row(userId='100019', uniqueDay='17811', artist='Deftones', auth='Logged In', firstName='Angel', gender='M', itemInSession=5, lastName='Jacobs', length=287.84281, level='free', location='Spokane-Spokane Valley, WA', method='PUT', page='NextSong', registration=1536257455000, sessionId=71, song='Beauty School (Album Version)', status=200, ts=1538942898000, userAgent='Mozilla/5.0 (X11; Ubuntu; Linux x86_64; rv:31.0) Gecko/20100101 Firefox/31.0', Churned=0, userChurned=1, browser='Firefox', platform='Linux', state='WA', city='Spokane-Spokane Valley', totalDailySessions=61, avgDailySessions=44.5, totalDailyThumbsUp=1, avgDailyThumbsUp=0.5, totalDailyThumbsDown=0, avgDailyThumbsDown=0.5, totalDailyErrors=0, totalDailyAdvertisements=10, totalDailyNextSong=43),\n",
       " Row(userId='100019', uniqueDay='17811', artist='RJD2', auth='Logged In', firstName='Angel', gender='M', itemInSession=6, lastName='Jacobs', length=197.04118, level='free', location='Spokane-Spokane Valley, WA', method='PUT', page='NextSong', registration=1536257455000, sessionId=71, song='Hand-Me-Downs (Instrumental)', status=200, ts=1538943185000, userAgent='Mozilla/5.0 (X11; Ubuntu; Linux x86_64; rv:31.0) Gecko/20100101 Firefox/31.0', Churned=0, userChurned=1, browser='Firefox', platform='Linux', state='WA', city='Spokane-Spokane Valley', totalDailySessions=61, avgDailySessions=44.5, totalDailyThumbsUp=1, avgDailyThumbsUp=0.5, totalDailyThumbsDown=0, avgDailyThumbsDown=0.5, totalDailyErrors=0, totalDailyAdvertisements=10, totalDailyNextSong=43),\n",
       " Row(userId='100019', uniqueDay='17811', artist=None, auth='Logged In', firstName='Angel', gender='M', itemInSession=7, lastName='Jacobs', length=None, level='free', location='Spokane-Spokane Valley, WA', method='PUT', page='Thumbs Up', registration=1536257455000, sessionId=71, song=None, status=307, ts=1538943186000, userAgent='Mozilla/5.0 (X11; Ubuntu; Linux x86_64; rv:31.0) Gecko/20100101 Firefox/31.0', Churned=0, userChurned=1, browser='Firefox', platform='Linux', state='WA', city='Spokane-Spokane Valley', totalDailySessions=61, avgDailySessions=44.5, totalDailyThumbsUp=1, avgDailyThumbsUp=0.5, totalDailyThumbsDown=0, avgDailyThumbsDown=0.5, totalDailyErrors=0, totalDailyAdvertisements=10, totalDailyNextSong=43)]"
      ]
     },
     "execution_count": 32,
     "metadata": {},
     "output_type": "execute_result"
    }
   ],
   "source": [
    "user_log.take(5)"
   ]
  },
  {
   "cell_type": "code",
   "execution_count": 33,
   "metadata": {},
   "outputs": [
    {
     "name": "stdout",
     "output_type": "stream",
     "text": [
      "root\n",
      " |-- userId: string (nullable = true)\n",
      " |-- uniqueDay: string (nullable = true)\n",
      " |-- artist: string (nullable = true)\n",
      " |-- auth: string (nullable = true)\n",
      " |-- firstName: string (nullable = true)\n",
      " |-- gender: string (nullable = true)\n",
      " |-- itemInSession: long (nullable = true)\n",
      " |-- lastName: string (nullable = true)\n",
      " |-- length: double (nullable = true)\n",
      " |-- level: string (nullable = true)\n",
      " |-- location: string (nullable = true)\n",
      " |-- method: string (nullable = true)\n",
      " |-- page: string (nullable = true)\n",
      " |-- registration: long (nullable = true)\n",
      " |-- sessionId: long (nullable = true)\n",
      " |-- song: string (nullable = true)\n",
      " |-- status: long (nullable = true)\n",
      " |-- ts: long (nullable = true)\n",
      " |-- userAgent: string (nullable = true)\n",
      " |-- Churned: integer (nullable = true)\n",
      " |-- userChurned: integer (nullable = true)\n",
      " |-- browser: string (nullable = true)\n",
      " |-- platform: string (nullable = true)\n",
      " |-- state: string (nullable = true)\n",
      " |-- city: string (nullable = true)\n",
      " |-- totalDailySessions: long (nullable = false)\n",
      " |-- avgDailySessions: double (nullable = true)\n",
      " |-- totalDailyThumbsUp: long (nullable = false)\n",
      " |-- avgDailyThumbsUp: double (nullable = true)\n",
      " |-- totalDailyThumbsDown: long (nullable = false)\n",
      " |-- avgDailyThumbsDown: double (nullable = true)\n",
      " |-- totalDailyErrors: long (nullable = false)\n",
      " |-- totalDailyAdvertisements: long (nullable = false)\n",
      " |-- totalDailyNextSong: long (nullable = false)\n",
      "\n"
     ]
    }
   ],
   "source": [
    "user_log.printSchema()\n",
    "\n",
    "# uniqueDay (num)\n",
    "# level (cat)\n",
    "# page (cat)\n",
    "# browser (cat)\n",
    "# platform (cat)\n",
    "# state (cat)\n",
    "# city (cat)\n",
    "# totalDailySessions (num)\n",
    "# avgDailySessions (num)\n",
    "# totalDailyThumbsUp (num)\n",
    "# avgDailyThumbsUp (num)\n",
    "# totalDailyThumbsDown (num)\n",
    "# avgDailyThumbsDown (num)\n",
    "# totalDailyErrors (num)\n",
    "# totalDailyAdvertisements (num)\n",
    "# totalDailyNextSong (num)"
   ]
  },
  {
   "cell_type": "code",
   "execution_count": 34,
   "metadata": {},
   "outputs": [
    {
     "name": "stdout",
     "output_type": "stream",
     "text": [
      "root\n",
      " |-- userId: string (nullable = true)\n",
      " |-- uniqueDay: string (nullable = true)\n",
      " |-- level: string (nullable = true)\n",
      " |-- page: string (nullable = true)\n",
      " |-- userChurned: integer (nullable = true)\n",
      " |-- browser: string (nullable = true)\n",
      " |-- platform: string (nullable = true)\n",
      " |-- state: string (nullable = true)\n",
      " |-- city: string (nullable = true)\n",
      " |-- totalDailySessions: long (nullable = false)\n",
      " |-- avgDailySessions: double (nullable = true)\n",
      " |-- totalDailyThumbsUp: long (nullable = false)\n",
      " |-- avgDailyThumbsUp: double (nullable = true)\n",
      " |-- totalDailyThumbsDown: long (nullable = false)\n",
      " |-- avgDailyThumbsDown: double (nullable = true)\n",
      " |-- totalDailyErrors: long (nullable = false)\n",
      " |-- totalDailyAdvertisements: long (nullable = false)\n",
      " |-- totalDailyNextSong: long (nullable = false)\n",
      "\n"
     ]
    }
   ],
   "source": [
    "# Prepare data for models\n",
    "user_log = user_log.drop('artist', 'auth', 'firstName', 'gender', 'itemInSession', 'lastName', 'length', 'location', 'method', 'registration', 'sessionId', 'song', 'status', 'ts', 'userAgent', 'Churned')\n",
    "\n",
    "user_log.printSchema()"
   ]
  },
  {
   "cell_type": "code",
   "execution_count": 35,
   "metadata": {},
   "outputs": [
    {
     "name": "stdout",
     "output_type": "stream",
     "text": [
      "root\n",
      " |-- userId: string (nullable = true)\n",
      " |-- level: string (nullable = true)\n",
      " |-- page: string (nullable = true)\n",
      " |-- userChurned: integer (nullable = true)\n",
      " |-- browser: string (nullable = true)\n",
      " |-- platform: string (nullable = true)\n",
      " |-- state: string (nullable = true)\n",
      " |-- city: string (nullable = true)\n",
      " |-- totalDailySessions: long (nullable = false)\n",
      " |-- avgDailySessions: double (nullable = true)\n",
      " |-- totalDailyThumbsUp: long (nullable = false)\n",
      " |-- avgDailyThumbsUp: double (nullable = true)\n",
      " |-- totalDailyThumbsDown: long (nullable = false)\n",
      " |-- avgDailyThumbsDown: double (nullable = true)\n",
      " |-- totalDailyErrors: long (nullable = false)\n",
      " |-- totalDailyAdvertisements: long (nullable = false)\n",
      " |-- totalDailyNextSong: long (nullable = false)\n",
      " |-- uniqueDay: integer (nullable = true)\n",
      "\n"
     ]
    }
   ],
   "source": [
    "user_log = user_log.withColumn(\"uniqueDayTmp\", user_log.userId.cast(IntegerType())).drop(\"uniqueDay\").withColumnRenamed(\"uniqueDayTmp\", \"uniqueDay\")\n",
    "\n",
    "\n",
    "user_log.printSchema()\n"
   ]
  },
  {
   "cell_type": "code",
   "execution_count": 36,
   "metadata": {},
   "outputs": [],
   "source": [
    "## Create pipeline for processing data\n",
    "\n",
    "# pipeline_stages = [StringIndexer(inputCol=column, outputCol=column+\"Index\") \n",
    "#                     for column in ['level','page','browser', 'platform', 'state', 'city'] ]\n",
    "pipeline_stages = [StringIndexer(inputCol=column, outputCol=column+\"Index\") \n",
    "                    for column in ['level','page','browser', 'platform', 'state'] ]\n",
    "\n",
    "assembler = VectorAssembler(inputCols=['uniqueDay', 'totalDailySessions', 'avgDailySessions', 'totalDailyThumbsUp', 'avgDailyThumbsUp', 'totalDailyThumbsDown', 'avgDailyThumbsDown', 'totalDailyErrors', 'totalDailyAdvertisements', 'totalDailyNextSong'], outputCol=\"features\")\n",
    "pipeline_stages.append(assembler)\n",
    "\n",
    "standard_scaler = StandardScaler(inputCol='features', outputCol='scaledFeatures')\n",
    "pipeline_stages.append(standard_scaler)\n",
    "\n",
    "# combined_assembler = VectorAssembler(inputCols=['scaledFeatures','levelIndex', 'pageIndex', 'browserIndex', 'platformIndex', 'stateIndex', 'cityIndex'], outputCol='combinedFeatures')\n",
    "combined_assembler = VectorAssembler(inputCols=['scaledFeatures','levelIndex', 'pageIndex', 'browserIndex', 'platformIndex', 'stateIndex'], outputCol='combinedFeatures')\n",
    "pipeline_stages.append(combined_assembler)\n",
    "\n",
    "process_pipeline = Pipeline(stages=pipeline_stages)\n",
    "\n",
    "\n",
    "\n",
    "\n"
   ]
  },
  {
   "cell_type": "code",
   "execution_count": 37,
   "metadata": {},
   "outputs": [],
   "source": [
    "user_log_model = process_pipeline.fit(user_log).transform(user_log)\n",
    "\n",
    "user_log_model = user_log_model.select('userChurned','combinedFeatures').withColumnRenamed('userChurned', 'label')\n",
    "\n",
    "train, test = user_log_model.randomSplit([0.8, 0.2], seed=42)\n",
    "\n",
    "\n",
    "### Renamed userChurned to label"
   ]
  },
  {
   "cell_type": "code",
   "execution_count": 38,
   "metadata": {},
   "outputs": [],
   "source": [
    "\n",
    "\n",
    "# log_reg = LogisticRegression(featuresCol=\"combinedFeatures\", labelCol=\"userChurned\", maxIter=10)\n",
    "\n",
    "log_reg = LogisticRegression(featuresCol=\"combinedFeatures\", labelCol=\"label\", maxIter=10)\n",
    "\n",
    "fitted_log_model = log_reg.fit(train)\n",
    "\n",
    "log_results = fitted_log_model.transform(test)"
   ]
  },
  {
   "cell_type": "code",
   "execution_count": 39,
   "metadata": {},
   "outputs": [
    {
     "name": "stdout",
     "output_type": "stream",
     "text": [
      "The F1 score on the test set is 76.26%\n"
     ]
    }
   ],
   "source": [
    "f1_evaluator = MulticlassClassificationEvaluator(metricName='f1')\n",
    "\n",
    "#f1_score = f1_evaluator.evaluate(log_results.select(col('userChurned').alias('label'), col('prediction')))\n",
    "f1_score = f1_evaluator.evaluate(log_results.select(col('label'), col('prediction')))\n",
    "\n",
    "print('The F1 score on the test set is {:.2%}'.format(f1_score)) "
   ]
  },
  {
   "cell_type": "code",
   "execution_count": 40,
   "metadata": {},
   "outputs": [],
   "source": [
    "gbt = GBTClassifier(featuresCol=\"combinedFeatures\", labelCol=\"label\", maxIter=10, maxBins=120)\n",
    "\n",
    "fitted_gbt_model = gbt.fit(train)\n",
    "\n",
    "gbt_results = fitted_gbt_model.transform(test)"
   ]
  },
  {
   "cell_type": "code",
   "execution_count": 41,
   "metadata": {},
   "outputs": [
    {
     "name": "stdout",
     "output_type": "stream",
     "text": [
      "The F1 score on the test set is 99.37%\n"
     ]
    }
   ],
   "source": [
    "f1_evaluator = MulticlassClassificationEvaluator(metricName='f1')\n",
    "\n",
    "f1_score = f1_evaluator.evaluate(gbt_results.select(col('label'), col('prediction')))\n",
    "\n",
    "print('The F1 score on the test set is {:.2%}'.format(f1_score)) "
   ]
  },
  {
   "cell_type": "code",
   "execution_count": 42,
   "metadata": {},
   "outputs": [],
   "source": [
    "rf = RandomForestClassifier(featuresCol=\"combinedFeatures\", labelCol=\"label\", maxBins=120)\n",
    "\n",
    "fitted_rf_model = rf.fit(train)\n",
    "\n",
    "rf_results = fitted_rf_model.transform(test)"
   ]
  },
  {
   "cell_type": "code",
   "execution_count": 43,
   "metadata": {},
   "outputs": [
    {
     "name": "stdout",
     "output_type": "stream",
     "text": [
      "The F1 score on the test set is 91.98%\n"
     ]
    }
   ],
   "source": [
    "f1_evaluator = MulticlassClassificationEvaluator(metricName='f1')\n",
    "\n",
    "f1_score = f1_evaluator.evaluate(rf_results.select(col('label'), col('prediction')))\n",
    "\n",
    "print('The F1 score on the test set is {:.2%}'.format(f1_score))"
   ]
  },
  {
   "cell_type": "code",
   "execution_count": 44,
   "metadata": {},
   "outputs": [
    {
     "name": "stdout",
     "output_type": "stream",
     "text": [
      "The areaUnderROC on the test set for the GBT model is 99.97%\n"
     ]
    }
   ],
   "source": [
    "auc_evaluator = BinaryClassificationEvaluator(metricName='areaUnderROC')\n",
    "roc_value = auc_evaluator.evaluate(gbt_results)\n",
    "print('The areaUnderROC on the test set for the GBT model is {:.2%}'.format(roc_value))"
   ]
  },
  {
   "cell_type": "code",
   "execution_count": 45,
   "metadata": {
    "scrolled": true
   },
   "outputs": [
    {
     "name": "stdout",
     "output_type": "stream",
     "text": [
      "The areaUnderROC on the test set for the RF model is 99.40%\n"
     ]
    }
   ],
   "source": [
    "roc_value = auc_evaluator.evaluate(rf_results)\n",
    "print('The areaUnderROC on the test set for the RF model is {:.2%}'.format(roc_value))"
   ]
  },
  {
   "cell_type": "code",
   "execution_count": 46,
   "metadata": {},
   "outputs": [],
   "source": [
    "gbt_param_grid = ParamGridBuilder().addGrid(gbt.maxDepth, [5, 10]).addGrid(gbt.maxIter, [10, 20]).build()\n",
    "cross_validator = CrossValidator(estimator = gbt, estimatorParamMaps = gbt_param_grid, evaluator = MulticlassClassificationEvaluator(metricName='f1'), numFolds = 3)\n",
    "\n"
   ]
  },
  {
   "cell_type": "code",
   "execution_count": 47,
   "metadata": {},
   "outputs": [],
   "source": [
    "cv_model = cross_validator.fit(train)\n",
    "cv_results = cv_model.transform(test)\n",
    "\n"
   ]
  },
  {
   "cell_type": "code",
   "execution_count": 48,
   "metadata": {},
   "outputs": [
    {
     "name": "stdout",
     "output_type": "stream",
     "text": [
      "The F1 score on the test set for the hypertuned GBT model is 100.00%\n"
     ]
    }
   ],
   "source": [
    "f1_score = f1_evaluator.evaluate(cv_results.select(col('label'), col('prediction')))\n",
    "print('The F1 score on the test set for the hypertuned GBT model is {:.2%}'.format(f1_score)) \n",
    "\n"
   ]
  },
  {
   "cell_type": "code",
   "execution_count": 49,
   "metadata": {},
   "outputs": [
    {
     "name": "stdout",
     "output_type": "stream",
     "text": [
      "The areaUnderROC on the test set for the hypertuned GBT model is 100.00%\n"
     ]
    }
   ],
   "source": [
    "roc_value = auc_evaluator.evaluate(cv_results)\n",
    "print('The areaUnderROC on the test set for the hypertuned GBT model is {:.2%}'.format(roc_value))"
   ]
  },
  {
   "cell_type": "code",
   "execution_count": 50,
   "metadata": {},
   "outputs": [
    {
     "data": {
      "text/plain": [
       "(array([ 0,  1,  2,  3,  4,  5,  6,  7,  8,  9, 10, 11, 12, 13, 14]),\n",
       " <a list of 15 Text xticklabel objects>)"
      ]
     },
     "execution_count": 50,
     "metadata": {},
     "output_type": "execute_result"
    },
    {
     "data": {
      "image/png": "[encoded data removed]",
      "text/plain": [
       "<matplotlib.figure.Figure at 0x7ff66491dfd0>"
      ]
     },
     "metadata": {
      "needs_background": "light"
     },
     "output_type": "display_data"
    }
   ],
   "source": [
    "cv_feature_vals = cv_model.bestModel.featureImportances.values\n",
    "# feature_cols = ['uniqueDay', 'totalDailySessions', 'avgDailySessions', 'totalDailyThumbsUp', 'avgDailyThumbsUp', 'totalDailyThumbsDown', 'avgDailyThumbsDown', 'totalDailyErrors', 'totalDailyAdvertisements', 'totalDailyNextSong','levelIndex', 'pageIndex', 'browserIndex', 'platformIndex', 'stateIndex', 'cityIndex']\n",
    "feature_cols = ['uniqueDay', 'totalDailySessions', 'avgDailySessions', 'totalDailyThumbsUp', 'avgDailyThumbsUp', 'totalDailyThumbsDown', 'avgDailyThumbsDown', 'totalDailyErrors', 'totalDailyAdvertisements', 'totalDailyNextSong','levelIndex', 'pageIndex', 'browserIndex', 'platformIndex', 'stateIndex']\n",
    "\n",
    "x_pos = np.arange(len(feature_cols))\n",
    " \n",
    "plt.bar(x_pos, cv_feature_vals, align='center')\n",
    "plt.xticks(x_pos, feature_cols)\n",
    "plt.ylabel('Importance Score')\n",
    "plt.xlabel('Features')\n",
    "plt.xticks(rotation=65, horizontalalignment='right')\n",
    "\n",
    "\n",
    "# Wow cityIndex was a very strong indicator!... Maybe, that's why I have 100% accuracy?\n",
    "# Rerunning, and removing cityIndex"
   ]
  },
  {
   "cell_type": "markdown",
   "metadata": {},
   "source": [
    "# Exploratory Data Analysis\n",
    "When you're working with the full dataset, perform EDA by loading a small subset of the data and doing basic manipulations within Spark. In this workspace, you are already provided a small subset of data you can explore.\n",
    "\n",
    "### Define Churn\n",
    "\n",
    "Once you've done some preliminary analysis, create a column `Churn` to use as the label for your model. I suggest using the `Cancellation Confirmation` events to define your churn, which happen for both paid and free users. As a bonus task, you can also look into the `Downgrade` events.\n",
    "\n",
    "### Explore Data\n",
    "Once you've defined churn, perform some exploratory data analysis to observe the behavior for users who stayed vs users who churned. You can start by exploring aggregates on these two groups of users, observing how much of a specific action they experienced per a certain time unit or number of songs played."
   ]
  },
  {
   "cell_type": "code",
   "execution_count": null,
   "metadata": {},
   "outputs": [],
   "source": [
    "# EDA plan\n",
    "## 0. Define Churn\n",
    "## 1. Clean user string of empty values\n",
    "## 2. Check user agent for missing values and remove those rows\n",
    "\n",
    "# Feature Engineering Plan\n",
    "## 1. Split UA into browser and platform columns\n",
    "## 2. Create column for unique days\n",
    "## 3. Create column for average session length per day\n",
    "## 4. Create column for total sessions per day\n",
    "## 5. Create column for total advertisements per day\n",
    "## 6. Create column for total next song actions per day\n",
    "## 7. Create column for total error actions per day\n",
    "## 8. Create column for total thumbs up per day\n",
    "## 9. Create column for total thumbs down per day\n",
    "\n",
    "## Somewhere in this I need to figure out visualizations"
   ]
  },
  {
   "cell_type": "code",
   "execution_count": null,
   "metadata": {},
   "outputs": [],
   "source": [
    "user_log.select(\"auth\").dropDuplicates().show()"
   ]
  },
  {
   "cell_type": "code",
   "execution_count": null,
   "metadata": {},
   "outputs": [],
   "source": [
    "user_log.where(user_log.userId == 30).collect()[0]"
   ]
  },
  {
   "cell_type": "code",
   "execution_count": null,
   "metadata": {},
   "outputs": [],
   "source": [
    "print( datetime.datetime.fromtimestamp( user_log.where(user_log.userId == 30).collect()[0]['ts']/1000 ) )"
   ]
  },
  {
   "cell_type": "code",
   "execution_count": null,
   "metadata": {},
   "outputs": [],
   "source": [
    "# Don't use datetime object, instead create a column that tracks the unique day through the timestamp\n",
    "## Divide by 1000, then 60, then 60, then 24\n",
    "get_hour = udf(lambda x: math.floor( (x / 1000.0) / (60*60*24) ) )\n",
    "user_log = user_log.withColumn(\"unique_day\", get_hour(user_log.ts))"
   ]
  },
  {
   "cell_type": "code",
   "execution_count": null,
   "metadata": {},
   "outputs": [],
   "source": [
    "user_log.take(5)"
   ]
  },
  {
   "cell_type": "code",
   "execution_count": null,
   "metadata": {},
   "outputs": [],
   "source": [
    "# Get average number of ongs listened to per day\n",
    "## Average <metric> per day should be a decent predictor of churn"
   ]
  },
  {
   "cell_type": "code",
   "execution_count": null,
   "metadata": {},
   "outputs": [],
   "source": [
    "# Do data cleaning\n",
    "## Remove \"\" as a user ID\n",
    "## Other anomalies??"
   ]
  },
  {
   "cell_type": "markdown",
   "metadata": {},
   "source": [
    "# Feature Engineering\n",
    "Once you've familiarized yourself with the data, build out the features you find promising to train your model on. To work with the full dataset, you can follow the following steps.\n",
    "- Write a script to extract the necessary features from the smaller subset of data\n",
    "- Ensure that your script is scalable, using the best practices discussed in Lesson 3\n",
    "- Try your script on the full data set, debugging your script if necessary\n",
    "\n",
    "If you are working in the classroom workspace, you can just extract features based on the small subset of data contained here. Be sure to transfer over this work to the larger dataset when you work on your Spark cluster."
   ]
  },
  {
   "cell_type": "code",
   "execution_count": null,
   "metadata": {},
   "outputs": [],
   "source": [
    "# I want to look for whether or not a user came back to the service, on a given day\n",
    "## Create hour column\n",
    "## Count the number of days that a user starts at least 1 session\n",
    "### Maybe better here to create colum that is the number of days since creating an account\n",
    "#### How do I know when an account has been created?\n",
    "#### What about users that already have accounts?\n",
    "## Create columns to track when the desired logging in, logging out, and logging back in happen\n",
    "### Is this the only kind of user journey that I want to look at?\n",
    "\n",
    "## Maybe, sessions per day is fine\n",
    "\n"
   ]
  },
  {
   "cell_type": "markdown",
   "metadata": {},
   "source": [
    "# Modeling\n",
    "Split the full dataset into train, test, and validation sets. Test out several of the machine learning methods you learned. Evaluate the accuracy of the various models, tuning parameters as necessary. Determine your winning model based on test accuracy and report results on the validation set. Since the churned users are a fairly small subset, I suggest using F1 score as the metric to optimize."
   ]
  },
  {
   "cell_type": "code",
   "execution_count": null,
   "metadata": {},
   "outputs": [],
   "source": []
  },
  {
   "cell_type": "markdown",
   "metadata": {},
   "source": [
    "# Final Steps\n",
    "Clean up your code, adding comments and renaming variables to make the code easier to read and maintain. Refer to the Spark Project Overview page and Data Scientist Capstone Project Rubric to make sure you are including all components of the capstone project and meet all expectations. Remember, this includes thorough documentation in a README file in a Github repository, as well as a web app or blog post."
   ]
  },
  {
   "cell_type": "code",
   "execution_count": null,
   "metadata": {},
   "outputs": [],
   "source": []
  }
 ],
 "metadata": {
  "kernelspec": {
   "display_name": "Python 3",
   "language": "python",
   "name": "python3"
  },
  "language_info": {
   "codemirror_mode": {
    "name": "ipython",
    "version": 3
   },
   "file_extension": ".py",
   "mimetype": "text/x-python",
   "name": "python",
   "nbconvert_exporter": "python",
   "pygments_lexer": "ipython3",
   "version": "3.6.3"
  }
 },
 "nbformat": 4,
 "nbformat_minor": 2
}
